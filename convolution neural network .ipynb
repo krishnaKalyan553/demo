{
 "cells": [
  {
   "cell_type": "code",
   "execution_count": 2,
   "id": "1b44664e",
   "metadata": {},
   "outputs": [],
   "source": [
    "from tensorflow.keras.layers import Conv2D,MaxPool2D,BatchNormalization,Flatten,Dense,Activation\n",
    "from tensorflow.keras.preprocessing.image import ImageDataGenerator\n",
    "from tensorflow.keras.metrics import categorical_crossentropy\n",
    "from tensorflow.keras.models import Sequential\n",
    "from tensorflow.keras.optimizers import Adam\n",
    "import matplotlib.pyplot as plt\n",
    "import os,shutil,random,glob\n",
    "from tensorflow import keras\n",
    "import tensorflow as tf\n",
    "import numpy as np"
   ]
  },
  {
   "cell_type": "code",
   "execution_count": 3,
   "id": "e8a8a7c5",
   "metadata": {},
   "outputs": [
    {
     "name": "stdout",
     "output_type": "stream",
     "text": [
      "Num GPU Available: 1\n"
     ]
    }
   ],
   "source": [
    "#to set processer to gpu\n",
    "physical_devices=tf.config.experimental.list_physical_devices('GPU')\n",
    "print('Num GPU Available:',len(physical_devices))\n",
    "tf.config.experimental.set_memory_growth(physical_devices[0],True)"
   ]
  },
  {
   "cell_type": "markdown",
   "id": "02f9e7ba",
   "metadata": {},
   "source": [
    "# data preparation"
   ]
  },
  {
   "cell_type": "code",
   "execution_count": 6,
   "id": "53dcf8b5",
   "metadata": {},
   "outputs": [
    {
     "name": "stdout",
     "output_type": "stream",
     "text": [
      "201\n",
      "mother ok\n",
      "brother ok\n",
      "sis ok\n",
      "success2\n"
     ]
    }
   ],
   "source": [
    "#changing the directory to where the image dataset is there\n",
    "os.chdir('C:\\\\Users\\\\prave\\\\jupiter notebook\\\\prashu\\\\FamilyMembers')\n",
    "#making sub folder i.e train/test/valid from the raw image folder\n",
    "if os.path.isdir('train') is False:\n",
    "    os.makedirs('train/father')\n",
    "    os.makedirs('train/mother')\n",
    "    os.makedirs('train/brother')\n",
    "    os.makedirs('train/sister') \n",
    "if os.path.isdir('test') is False:\n",
    "    os.makedirs('test/father')\n",
    "    os.makedirs('test/mother')\n",
    "    os.makedirs('test/brother')\n",
    "    os.makedirs('test/sister')\n",
    "if os.path.isdir('valid') is False:\n",
    "    os.makedirs('valid/father')\n",
    "    os.makedirs('valid/mother')\n",
    "    os.makedirs('valid/brother')\n",
    "    os.makedirs('valid/sister') \n",
    "#spliting the image data to train/test/valid\n",
    "#=>train\n",
    "print(len(os.listdir('father')))\n",
    "for n in random.sample(glob.glob('father/father*'),180):\n",
    "    shutil.move(n,'train/father')\n",
    "#print('father ok')\n",
    "for n in random.sample(glob.glob('mother/mother*'),180):\n",
    "    shutil.move(n,'train/mother')\n",
    "#print('mother ok')\n",
    "for n in random.sample(glob.glob('brother/brother*'),180):\n",
    "    shutil.move(n,'train/brother')\n",
    "#print('brother ok')\n",
    "for n in random.sample(glob.glob('sister/sister*'),180):\n",
    "    shutil.move(n,'train/sister')\n",
    "#print('sis ok')\n",
    "#=>test\n",
    "for n in random.sample(glob.glob('father/father*'),10):\n",
    "    shutil.move(n,'test/father')\n",
    "for n in random.sample(glob.glob('mother/mother*'),10):\n",
    "    shutil.move(n,'test/mother')\n",
    "for n in random.sample(glob.glob('brother/brother*'),10):\n",
    "    shutil.move(n,'test/brother')\n",
    "for n in random.sample(glob.glob('sister/sister*'),10):\n",
    "    shutil.move(n,'test/sister')\n",
    "#=>valid\n",
    "for n in random.sample(glob.glob('father/father*'),10):\n",
    "    shutil.move(n,'valid/father')\n",
    "for n in random.sample(glob.glob('mother/mother*'),10):\n",
    "    shutil.move(n,'valid/mother')\n",
    "for n in random.sample(glob.glob('brother/brother*'),10):\n",
    "    shutil.move(n,'valid/brother')\n",
    "for n in random.sample(glob.glob('sister/sister*'),10):\n",
    "    shutil.move(n,'valid/sister')\n",
    "#chaning directory to current working dir\n",
    "os.chdir('../../')\n",
    "print('success2')"
   ]
  },
  {
   "cell_type": "code",
   "execution_count": 7,
   "id": "1b55007b",
   "metadata": {},
   "outputs": [],
   "source": [
    "train_path='C:\\\\Users\\\\prave\\\\jupiter notebook\\\\prashu\\\\FamilyMembers\\\\train'\n",
    "test_path ='C:\\\\Users\\\\prave\\\\jupiter notebook\\\\prashu\\\\FamilyMembers\\\\test'\n",
    "valid_path='C:\\\\Users\\\\prave\\\\jupiter notebook\\\\prashu\\\\FamilyMembers\\\\valid'"
   ]
  },
  {
   "cell_type": "markdown",
   "id": "5a25c7fa",
   "metadata": {},
   "source": [
    "# image data Generator to feed into neural networks\n",
    "###1).all images are resized to equal size(i.e by target_size func)\n",
    "\n",
    "\n",
    "\n",
    "#2).we also declare classes or labels here (i.e by classes=[declare ur classes here])"
   ]
  },
  {
   "cell_type": "code",
   "execution_count": 34,
   "id": "e7f89418",
   "metadata": {},
   "outputs": [
    {
     "name": "stdout",
     "output_type": "stream",
     "text": [
      "Found 720 images belonging to 4 classes.\n",
      "Found 40 images belonging to 4 classes.\n",
      "Found 40 images belonging to 4 classes.\n"
     ]
    }
   ],
   "source": [
    "train_batches=ImageDataGenerator(preprocessing_function=tf.keras.applications.vgg16.preprocess_input)\\\n",
    "    .flow_from_directory(directory=train_path,target_size=(124,124),classes=['father','mother','brother','sister'],batch_size=30)\n",
    "valid_batches=ImageDataGenerator(preprocessing_function=tf.keras.applications.vgg16.preprocess_input)\\\n",
    "    .flow_from_directory(directory=valid_path,target_size=(124,124),classes=['father','mother','brother','sister'],batch_size=10)\n",
    "test_batches=ImageDataGenerator(preprocessing_function=tf.keras.applications.vgg16.preprocess_input)\\\n",
    "    .flow_from_directory(directory=test_path,target_size=(124,124),classes=['father','mother','brother','sister'],batch_size=10,shuffle=True)"
   ]
  },
  {
   "cell_type": "code",
   "execution_count": 35,
   "id": "ce98d203",
   "metadata": {},
   "outputs": [],
   "source": [
    "assert train_batches.n==720\n",
    "assert valid_batches.n==40\n",
    "assert test_batches.n ==40\n",
    "assert train_batches.num_classes== valid_batches.num_classes== test_batches.num_classes==4"
   ]
  },
  {
   "cell_type": "code",
   "execution_count": 36,
   "id": "5aca199f",
   "metadata": {
    "scrolled": false
   },
   "outputs": [
    {
     "name": "stdout",
     "output_type": "stream",
     "text": [
      "[[0. 0. 1. 0.]\n",
      " [0. 0. 1. 0.]\n",
      " [0. 0. 1. 0.]\n",
      " [1. 0. 0. 0.]\n",
      " [0. 0. 1. 0.]\n",
      " [0. 0. 0. 1.]\n",
      " [1. 0. 0. 0.]\n",
      " [0. 0. 0. 1.]\n",
      " [0. 1. 0. 0.]\n",
      " [0. 0. 1. 0.]\n",
      " [0. 0. 1. 0.]\n",
      " [1. 0. 0. 0.]\n",
      " [0. 0. 1. 0.]\n",
      " [0. 0. 0. 1.]\n",
      " [0. 0. 0. 1.]\n",
      " [0. 1. 0. 0.]\n",
      " [0. 1. 0. 0.]\n",
      " [1. 0. 0. 0.]\n",
      " [0. 0. 0. 1.]\n",
      " [1. 0. 0. 0.]\n",
      " [0. 0. 0. 1.]\n",
      " [0. 1. 0. 0.]\n",
      " [1. 0. 0. 0.]\n",
      " [0. 0. 1. 0.]\n",
      " [1. 0. 0. 0.]\n",
      " [0. 0. 1. 0.]\n",
      " [0. 0. 0. 1.]\n",
      " [0. 0. 1. 0.]\n",
      " [1. 0. 0. 0.]\n",
      " [0. 1. 0. 0.]]\n"
     ]
    },
    {
     "data": {
      "text/plain": [
       "(30, 124, 124, 3)"
      ]
     },
     "execution_count": 36,
     "metadata": {},
     "output_type": "execute_result"
    }
   ],
   "source": [
    "images,labels=next(train_batches)\n",
    "print(labels)\n",
    "#print(len(os.listdir(train_path)))\n",
    "images.shape"
   ]
  },
  {
   "cell_type": "code",
   "execution_count": 37,
   "id": "a32e5cb6",
   "metadata": {},
   "outputs": [],
   "source": [
    "#plot images in a single batch\n",
    "def plotImages(imgs_arr):\n",
    "    fig,axes=plt.subplots(2,10,figsize=(5,5))\n",
    "    axes=axes.flatten()\n",
    "    for img,ax in zip(imgs_arr,axes):\n",
    "        ax.imshow(img,cmap='gray')\n",
    "        ax.axis('off')\n",
    "    plt.tight_layout()\n",
    "    plt.show()\n"
   ]
  },
  {
   "cell_type": "code",
   "execution_count": 38,
   "id": "f981a94b",
   "metadata": {},
   "outputs": [
    {
     "name": "stderr",
     "output_type": "stream",
     "text": [
      "Clipping input data to the valid range for imshow with RGB data ([0..1] for floats or [0..255] for integers).\n",
      "Clipping input data to the valid range for imshow with RGB data ([0..1] for floats or [0..255] for integers).\n",
      "Clipping input data to the valid range for imshow with RGB data ([0..1] for floats or [0..255] for integers).\n",
      "Clipping input data to the valid range for imshow with RGB data ([0..1] for floats or [0..255] for integers).\n",
      "Clipping input data to the valid range for imshow with RGB data ([0..1] for floats or [0..255] for integers).\n",
      "Clipping input data to the valid range for imshow with RGB data ([0..1] for floats or [0..255] for integers).\n",
      "Clipping input data to the valid range for imshow with RGB data ([0..1] for floats or [0..255] for integers).\n",
      "Clipping input data to the valid range for imshow with RGB data ([0..1] for floats or [0..255] for integers).\n",
      "Clipping input data to the valid range for imshow with RGB data ([0..1] for floats or [0..255] for integers).\n",
      "Clipping input data to the valid range for imshow with RGB data ([0..1] for floats or [0..255] for integers).\n",
      "Clipping input data to the valid range for imshow with RGB data ([0..1] for floats or [0..255] for integers).\n",
      "Clipping input data to the valid range for imshow with RGB data ([0..1] for floats or [0..255] for integers).\n",
      "Clipping input data to the valid range for imshow with RGB data ([0..1] for floats or [0..255] for integers).\n",
      "Clipping input data to the valid range for imshow with RGB data ([0..1] for floats or [0..255] for integers).\n",
      "Clipping input data to the valid range for imshow with RGB data ([0..1] for floats or [0..255] for integers).\n",
      "Clipping input data to the valid range for imshow with RGB data ([0..1] for floats or [0..255] for integers).\n",
      "Clipping input data to the valid range for imshow with RGB data ([0..1] for floats or [0..255] for integers).\n",
      "Clipping input data to the valid range for imshow with RGB data ([0..1] for floats or [0..255] for integers).\n",
      "Clipping input data to the valid range for imshow with RGB data ([0..1] for floats or [0..255] for integers).\n",
      "Clipping input data to the valid range for imshow with RGB data ([0..1] for floats or [0..255] for integers).\n"
     ]
    },
    {
     "data": {
      "image/png": "[encoded data removed]",
      "text/plain": [
       "<Figure size 360x360 with 20 Axes>"
      ]
     },
     "metadata": {
      "needs_background": "light"
     },
     "output_type": "display_data"
    },
    {
     "name": "stdout",
     "output_type": "stream",
     "text": [
      "[[0. 0. 1. 0.]\n",
      " [0. 0. 1. 0.]\n",
      " [0. 0. 1. 0.]\n",
      " [1. 0. 0. 0.]\n",
      " [0. 0. 1. 0.]\n",
      " [0. 0. 0. 1.]\n",
      " [1. 0. 0. 0.]\n",
      " [0. 0. 0. 1.]\n",
      " [0. 1. 0. 0.]\n",
      " [0. 0. 1. 0.]\n",
      " [0. 0. 1. 0.]\n",
      " [1. 0. 0. 0.]\n",
      " [0. 0. 1. 0.]\n",
      " [0. 0. 0. 1.]\n",
      " [0. 0. 0. 1.]\n",
      " [0. 1. 0. 0.]\n",
      " [0. 1. 0. 0.]\n",
      " [1. 0. 0. 0.]\n",
      " [0. 0. 0. 1.]\n",
      " [1. 0. 0. 0.]\n",
      " [0. 0. 0. 1.]\n",
      " [0. 1. 0. 0.]\n",
      " [1. 0. 0. 0.]\n",
      " [0. 0. 1. 0.]\n",
      " [1. 0. 0. 0.]\n",
      " [0. 0. 1. 0.]\n",
      " [0. 0. 0. 1.]\n",
      " [0. 0. 1. 0.]\n",
      " [1. 0. 0. 0.]\n",
      " [0. 1. 0. 0.]]\n"
     ]
    }
   ],
   "source": [
    "plotImages(images)\n",
    "print(labels)"
   ]
  },
  {
   "cell_type": "markdown",
   "id": "e0af6ce4",
   "metadata": {},
   "source": [
    "# building and train a cnn"
   ]
  },
  {
   "cell_type": "code",
   "execution_count": 10,
   "id": "7d8558d2",
   "metadata": {},
   "outputs": [],
   "source": [
    "#labels= tf.reshape(labels, [16, 1])"
   ]
  },
  {
   "cell_type": "code",
   "execution_count": 40,
   "id": "29166d88",
   "metadata": {},
   "outputs": [],
   "source": [
    "model=Sequential([\n",
    "    ###.......feature extraction and reduction(Conv2D and Maxpooling)\n",
    "    Conv2D(filters=32,kernel_size=(3,3),activation='relu',padding='same',input_shape=(124,124,3)),\n",
    "    MaxPool2D(pool_size=(2,2),strides=2),\n",
    "    Conv2D(filters=64,kernel_size=(3,3),activation='relu',padding='same'),\n",
    "    MaxPool2D(pool_size=(2,2),strides=2),\n",
    "    ###......NEURAL NETWORK CONSTRUCTION..........###\n",
    "    Flatten(),\n",
    "    Dense(180,activation='relu'),\n",
    "    Dense(units=4,activation='softmax')\n",
    "])"
   ]
  },
  {
   "cell_type": "code",
   "execution_count": 41,
   "id": "1b06a271",
   "metadata": {},
   "outputs": [
    {
     "name": "stdout",
     "output_type": "stream",
     "text": [
      "Model: \"sequential_1\"\n",
      "_________________________________________________________________\n",
      "Layer (type)                 Output Shape              Param #   \n",
      "=================================================================\n",
      "conv2d_2 (Conv2D)            (None, 124, 124, 32)      896       \n",
      "_________________________________________________________________\n",
      "max_pooling2d_2 (MaxPooling2 (None, 62, 62, 32)        0         \n",
      "_________________________________________________________________\n",
      "conv2d_3 (Conv2D)            (None, 62, 62, 64)        18496     \n",
      "_________________________________________________________________\n",
      "max_pooling2d_3 (MaxPooling2 (None, 31, 31, 64)        0         \n",
      "_________________________________________________________________\n",
      "flatten_1 (Flatten)          (None, 61504)             0         \n",
      "_________________________________________________________________\n",
      "dense_1 (Dense)              (None, 180)               11070900  \n",
      "_________________________________________________________________\n",
      "dense_2 (Dense)              (None, 4)                 724       \n",
      "=================================================================\n",
      "Total params: 11,091,016\n",
      "Trainable params: 11,091,016\n",
      "Non-trainable params: 0\n",
      "_________________________________________________________________\n"
     ]
    }
   ],
   "source": [
    "m=model\n",
    "m.summary()"
   ]
  },
  {
   "cell_type": "code",
   "execution_count": 42,
   "id": "aab806ce",
   "metadata": {},
   "outputs": [],
   "source": [
    "model.compile(optimizer='adam',loss='categorical_crossentropy',metrics=['accuracy'])"
   ]
  },
  {
   "cell_type": "code",
   "execution_count": 43,
   "id": "d09eb8a5",
   "metadata": {},
   "outputs": [
    {
     "name": "stdout",
     "output_type": "stream",
     "text": [
      "Epoch 1/10\n",
      "24/24 - 3s - loss: 260.9164 - accuracy: 0.4000 - val_loss: 0.6968 - val_accuracy: 0.7750\n",
      "Epoch 2/10\n",
      "24/24 - 2s - loss: 0.3188 - accuracy: 0.9083 - val_loss: 0.0842 - val_accuracy: 0.9500\n",
      "Epoch 3/10\n",
      "24/24 - 2s - loss: 0.0400 - accuracy: 0.9903 - val_loss: 0.0167 - val_accuracy: 1.0000\n",
      "Epoch 4/10\n",
      "24/24 - 1s - loss: 0.0095 - accuracy: 0.9986 - val_loss: 6.0176e-04 - val_accuracy: 1.0000\n",
      "Epoch 5/10\n",
      "24/24 - 1s - loss: 0.0035 - accuracy: 0.9986 - val_loss: 0.0012 - val_accuracy: 1.0000\n",
      "Epoch 6/10\n",
      "24/24 - 1s - loss: 0.0043 - accuracy: 0.9986 - val_loss: 0.0071 - val_accuracy: 1.0000\n",
      "Epoch 7/10\n",
      "24/24 - 1s - loss: 0.0025 - accuracy: 1.0000 - val_loss: 0.0015 - val_accuracy: 1.0000\n",
      "Epoch 8/10\n",
      "24/24 - 2s - loss: 0.0153 - accuracy: 0.9944 - val_loss: 0.0141 - val_accuracy: 1.0000\n",
      "Epoch 9/10\n",
      "24/24 - 2s - loss: 0.0043 - accuracy: 1.0000 - val_loss: 0.0074 - val_accuracy: 1.0000\n",
      "Epoch 10/10\n",
      "24/24 - 2s - loss: 0.0010 - accuracy: 1.0000 - val_loss: 0.0010 - val_accuracy: 1.0000\n"
     ]
    },
    {
     "data": {
      "text/plain": [
       "<tensorflow.python.keras.callbacks.History at 0x1c83a6a1f60>"
      ]
     },
     "execution_count": 43,
     "metadata": {},
     "output_type": "execute_result"
    }
   ],
   "source": [
    "#model.compile(optimizer='adam',loss=tf.keras.losses.SparseCategoricalCrossentropy(from_logits=True),metrics=['accuracy'])\n",
    "model.fit(train_batches,validation_data=valid_batches, epochs=10,verbose=2)"
   ]
  },
  {
   "cell_type": "code",
   "execution_count": 44,
   "id": "1ae2fb61",
   "metadata": {},
   "outputs": [
    {
     "name": "stdout",
     "output_type": "stream",
     "text": [
      "[[1. 0. 0. 0.]\n",
      " [0. 0. 1. 0.]\n",
      " [0. 0. 1. 0.]\n",
      " [0. 1. 0. 0.]\n",
      " [0. 0. 1. 0.]\n",
      " [0. 1. 0. 0.]\n",
      " [1. 0. 0. 0.]\n",
      " [0. 1. 0. 0.]\n",
      " [0. 1. 0. 0.]\n",
      " [0. 0. 0. 1.]]\n"
     ]
    }
   ],
   "source": [
    "T_images,T_labels=next(test_batches)\n",
    "print(T_labels)"
   ]
  },
  {
   "cell_type": "code",
   "execution_count": 45,
   "id": "6429278d",
   "metadata": {},
   "outputs": [
    {
     "data": {
      "text/plain": [
       "array([0, 0, 0, 0, 0, 0, 0, 0, 0, 0, 1, 1, 1, 1, 1, 1, 1, 1, 1, 1, 2, 2,\n",
       "       2, 2, 2, 2, 2, 2, 2, 2, 3, 3, 3, 3, 3, 3, 3, 3, 3, 3])"
      ]
     },
     "execution_count": 45,
     "metadata": {},
     "output_type": "execute_result"
    }
   ],
   "source": [
    "test_batches.classes"
   ]
  },
  {
   "cell_type": "code",
   "execution_count": 46,
   "id": "200b4353",
   "metadata": {},
   "outputs": [
    {
     "data": {
      "text/plain": [
       "array([[1., 0., 0., 0.],\n",
       "       [0., 0., 1., 0.],\n",
       "       [0., 0., 1., 0.],\n",
       "       [0., 1., 0., 0.],\n",
       "       [0., 0., 1., 0.],\n",
       "       [0., 1., 0., 0.],\n",
       "       [1., 0., 0., 0.],\n",
       "       [0., 1., 0., 0.],\n",
       "       [0., 1., 0., 0.],\n",
       "       [0., 0., 0., 1.],\n",
       "       [1., 0., 0., 0.],\n",
       "       [1., 0., 0., 0.],\n",
       "       [0., 0., 0., 1.],\n",
       "       [0., 0., 1., 0.],\n",
       "       [1., 0., 0., 0.],\n",
       "       [0., 0., 1., 0.],\n",
       "       [0., 0., 0., 1.],\n",
       "       [1., 0., 0., 0.],\n",
       "       [0., 0., 0., 1.],\n",
       "       [0., 0., 0., 1.],\n",
       "       [0., 0., 1., 0.],\n",
       "       [0., 0., 0., 1.],\n",
       "       [0., 0., 1., 0.],\n",
       "       [1., 0., 0., 0.],\n",
       "       [0., 1., 0., 0.],\n",
       "       [0., 1., 0., 0.],\n",
       "       [0., 0., 1., 0.],\n",
       "       [0., 1., 0., 0.],\n",
       "       [0., 0., 0., 1.],\n",
       "       [0., 0., 1., 0.],\n",
       "       [0., 1., 0., 0.],\n",
       "       [1., 0., 0., 0.],\n",
       "       [0., 1., 0., 0.],\n",
       "       [0., 0., 0., 1.],\n",
       "       [0., 0., 0., 1.],\n",
       "       [0., 0., 1., 0.],\n",
       "       [1., 0., 0., 0.],\n",
       "       [0., 0., 0., 1.],\n",
       "       [0., 1., 0., 0.],\n",
       "       [1., 0., 0., 0.]], dtype=float32)"
      ]
     },
     "execution_count": 46,
     "metadata": {},
     "output_type": "execute_result"
    }
   ],
   "source": [
    "prediction=model.predict(x=test_batches,verbose=0)\n",
    "np.round(prediction)"
   ]
  },
  {
   "cell_type": "code",
   "execution_count": 61,
   "id": "ff95cbea",
   "metadata": {},
   "outputs": [],
   "source": [
    "prediction=model.predict(x=T_images[4].reshape(-1,124,124,3),verbose=0)"
   ]
  },
  {
   "cell_type": "code",
   "execution_count": 62,
   "id": "49e94d04",
   "metadata": {},
   "outputs": [
    {
     "name": "stdout",
     "output_type": "stream",
     "text": [
      "0.0\n",
      "0.0\n",
      "1.0\n",
      "0.0\n",
      "max: 1.0\n"
     ]
    }
   ],
   "source": [
    "c={'father':1,'mother':2,'brother':3,'sister':4}\n",
    "#c.keys =['father','mother','brother','sister']\n",
    "l=[]\n",
    "for i in prediction[0]:\n",
    "    l.append(np.round(i,4))\n",
    "    print(np.round(i,4))\n",
    "print('max:',max(l))"
   ]
  },
  {
   "cell_type": "code",
   "execution_count": 63,
   "id": "2dc429c0",
   "metadata": {
    "scrolled": true
   },
   "outputs": [
    {
     "name": "stderr",
     "output_type": "stream",
     "text": [
      "Clipping input data to the valid range for imshow with RGB data ([0..1] for floats or [0..255] for integers).\n"
     ]
    },
    {
     "data": {
      "text/plain": [
       "<matplotlib.image.AxesImage at 0x1c8412721d0>"
      ]
     },
     "execution_count": 63,
     "metadata": {},
     "output_type": "execute_result"
    },
    {
     "data": {
      "image/png": "[encoded data removed]",
      "text/plain": [
       "<Figure size 432x288 with 1 Axes>"
      ]
     },
     "metadata": {
      "needs_background": "light"
     },
     "output_type": "display_data"
    }
   ],
   "source": [
    "plt.imshow(T_images[4])"
   ]
  },
  {
   "cell_type": "code",
   "execution_count": 64,
   "id": "6c0da155",
   "metadata": {},
   "outputs": [
    {
     "name": "stdout",
     "output_type": "stream",
     "text": [
      "INFO:tensorflow:Assets written to: ..\\familyMemberRecognition\\assets\n"
     ]
    }
   ],
   "source": [
    "tf.keras.models.save_model(model,'..\\\\familyMemberRecognition')"
   ]
  },
  {
   "cell_type": "code",
   "execution_count": 65,
   "id": "e087f96c",
   "metadata": {},
   "outputs": [
    {
     "name": "stdout",
     "output_type": "stream",
     "text": [
      "INFO:tensorflow:Assets written to: my_model\\assets\n"
     ]
    }
   ],
   "source": [
    "model.save(\"my_model\")"
   ]
  },
  {
   "cell_type": "code",
   "execution_count": 22,
   "id": "1a37e3e1",
   "metadata": {},
   "outputs": [],
   "source": [
    "loaded_2 = keras.models.load_model(\"my_model\")\n",
    "#np.testing.assert_allclose(loaded_2(input_arr), outputs)"
   ]
  }
 ],
 "metadata": {
  "kernelspec": {
   "display_name": "Python 3",
   "language": "python",
   "name": "python3"
  },
  "language_info": {
   "codemirror_mode": {
    "name": "ipython",
    "version": 3
   },
   "file_extension": ".py",
   "mimetype": "text/x-python",
   "name": "python",
   "nbconvert_exporter": "python",
   "pygments_lexer": "ipython3",
   "version": "3.6.12"
  }
 },
 "nbformat": 4,
 "nbformat_minor": 5
}
