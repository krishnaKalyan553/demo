{
 "cells": [
  {
   "cell_type": "code",
   "execution_count": 1,
   "id": "7425ff92",
   "metadata": {},
   "outputs": [],
   "source": [
    "import numpy as np\n",
    "import keras\n",
    "import pyttsx3\n",
    "from keras.models import Sequential\n",
    "from keras.layers import Conv2D,MaxPool2D,Dense,Flatten,Reshape\n",
    "from keras import layers\n",
    "import matplotlib.pyplot as plt\n",
    "import os \n",
    "import cv2\n",
    "from tensorflow.keras.callbacks import EarlyStopping\n",
    "from sklearn.model_selection import train_test_split\n",
    "from keras.preprocessing.image import ImageDataGenerator"
   ]
  },
  {
   "cell_type": "code",
   "execution_count": 2,
   "id": "8aab59d6",
   "metadata": {},
   "outputs": [],
   "source": [
    "train_datagen = ImageDataGenerator(rescale = 1./255,  \n",
    "                                   shear_range = 0.2,  \n",
    "                                   zoom_range = 0.2,  \n",
    "                                   horizontal_flip = True)\n",
    "test_datagen=ImageDataGenerator(rescale = 1./255)"
   ]
  },
  {
   "cell_type": "code",
   "execution_count": 3,
   "id": "218ab13a",
   "metadata": {},
   "outputs": [
    {
     "name": "stdout",
     "output_type": "stream",
     "text": [
      "Found 981 images belonging to 5 classes.\n"
     ]
    }
   ],
   "source": [
    "x_train = train_datagen.flow_from_directory(\n",
    "r\"C:\\Users\\Suma\\Desktop\\FACE_RECOGNITION\\train\",\n",
    "target_size =(40, 40), \n",
    "batch_size = 5,\n",
    "class_mode ='categorical',\n",
    "color_mode=\"grayscale\",\n",
    "interpolation=\"box\",\n",
    "classes=[\"brother\",\"father\",\"mother\",\"sister\",\"stranger\"]\n",
    ")"
   ]
  },
  {
   "cell_type": "code",
   "execution_count": 4,
   "id": "33df80a4",
   "metadata": {},
   "outputs": [
    {
     "name": "stdout",
     "output_type": "stream",
     "text": [
      "Found 111 images belonging to 5 classes.\n"
     ]
    }
   ],
   "source": [
    "validation = train_datagen.flow_from_directory(\n",
    "r\"C:\\Users\\Suma\\Desktop\\FACE_RECOGNITION\\validation_data\",\n",
    "target_size =(40, 40), \n",
    "batch_size = 2,\n",
    "class_mode ='categorical',\n",
    "color_mode=\"grayscale\",\n",
    "interpolation=\"box\",\n",
    "classes=[\"brother\",\"father\",\"mother\",\"sister\",\"stranger\"]\n",
    ")"
   ]
  },
  {
   "cell_type": "code",
   "execution_count": 5,
   "id": "66ccbdd8",
   "metadata": {},
   "outputs": [
    {
     "name": "stdout",
     "output_type": "stream",
     "text": [
      "Found 112 images belonging to 5 classes.\n"
     ]
    }
   ],
   "source": [
    "test = test_datagen.flow_from_directory(\n",
    "r\"C:\\Users\\Suma\\Desktop\\FACE_RECOGNITION\\test\",\n",
    "target_size =(40, 40), \n",
    "batch_size = 2,\n",
    "class_mode ='categorical',\n",
    "color_mode=\"grayscale\",\n",
    "interpolation=\"box\",\n",
    "classes=[\"brother\",\"father\",\"mother\",\"sister\",\"stranger\"]\n",
    ")"
   ]
  },
  {
   "cell_type": "code",
   "execution_count": 6,
   "id": "eadee237",
   "metadata": {},
   "outputs": [
    {
     "data": {
      "image/png": "[encoded data removed]",
      "text/plain": [
       "<Figure size 432x288 with 1 Axes>"
      ]
     },
     "metadata": {
      "needs_background": "light"
     },
     "output_type": "display_data"
    }
   ],
   "source": [
    "plt.imshow(x_train[0][0][0],cmap=\"gray\")\n",
    "plt.axis(\"off\")\n",
    "plt.show()"
   ]
  },
  {
   "cell_type": "code",
   "execution_count": 21,
   "id": "725d832d",
   "metadata": {},
   "outputs": [
    {
     "name": "stdout",
     "output_type": "stream",
     "text": [
      "Model: \"sequential_7\"\n",
      "_________________________________________________________________\n",
      "Layer (type)                 Output Shape              Param #   \n",
      "=================================================================\n",
      "conv2d_20 (Conv2D)           (None, 38, 38, 32)        320       \n",
      "_________________________________________________________________\n",
      "max_pooling2d_20 (MaxPooling (None, 19, 19, 32)        0         \n",
      "_________________________________________________________________\n",
      "batch_normalization_20 (Batc (None, 19, 19, 32)        128       \n",
      "_________________________________________________________________\n",
      "dropout_11 (Dropout)         (None, 19, 19, 32)        0         \n",
      "_________________________________________________________________\n",
      "conv2d_21 (Conv2D)           (None, 19, 19, 32)        25632     \n",
      "_________________________________________________________________\n",
      "max_pooling2d_21 (MaxPooling (None, 9, 9, 32)          0         \n",
      "_________________________________________________________________\n",
      "batch_normalization_21 (Batc (None, 9, 9, 32)          128       \n",
      "_________________________________________________________________\n",
      "conv2d_22 (Conv2D)           (None, 3, 3, 20)          31380     \n",
      "_________________________________________________________________\n",
      "max_pooling2d_22 (MaxPooling (None, 1, 1, 20)          0         \n",
      "_________________________________________________________________\n",
      "batch_normalization_22 (Batc (None, 1, 1, 20)          80        \n",
      "_________________________________________________________________\n",
      "flatten_6 (Flatten)          (None, 20)                0         \n",
      "_________________________________________________________________\n",
      "dense_6 (Dense)              (None, 5)                 105       \n",
      "=================================================================\n",
      "Total params: 57,773\n",
      "Trainable params: 57,605\n",
      "Non-trainable params: 168\n",
      "_________________________________________________________________\n",
      "Epoch 1/200\n",
      "197/197 - 8s - loss: 1.3134 - accuracy: 0.4791 - val_loss: 2.2631 - val_accuracy: 0.2342\n",
      "Epoch 2/200\n",
      "197/197 - 6s - loss: 0.9309 - accuracy: 0.6514 - val_loss: 2.4813 - val_accuracy: 0.2432\n",
      "Epoch 3/200\n",
      "197/197 - 7s - loss: 0.7556 - accuracy: 0.7166 - val_loss: 1.2092 - val_accuracy: 0.5856\n",
      "Epoch 4/200\n",
      "197/197 - 7s - loss: 0.7139 - accuracy: 0.7513 - val_loss: 1.2044 - val_accuracy: 0.5946\n",
      "Epoch 5/200\n",
      "197/197 - 7s - loss: 0.6620 - accuracy: 0.7645 - val_loss: 1.0873 - val_accuracy: 0.5856\n",
      "Epoch 6/200\n",
      "197/197 - 6s - loss: 0.5601 - accuracy: 0.8094 - val_loss: 1.1869 - val_accuracy: 0.6757\n",
      "Epoch 7/200\n",
      "197/197 - 6s - loss: 0.5265 - accuracy: 0.8145 - val_loss: 1.4621 - val_accuracy: 0.5586\n",
      "Epoch 8/200\n",
      "197/197 - 6s - loss: 0.5205 - accuracy: 0.8186 - val_loss: 1.2087 - val_accuracy: 0.6937\n",
      "Epoch 9/200\n",
      "197/197 - 6s - loss: 0.5004 - accuracy: 0.8155 - val_loss: 1.0994 - val_accuracy: 0.6306\n",
      "Epoch 10/200\n",
      "197/197 - 6s - loss: 0.4984 - accuracy: 0.8287 - val_loss: 1.1317 - val_accuracy: 0.6396\n",
      "Epoch 11/200\n",
      "197/197 - 6s - loss: 0.4319 - accuracy: 0.8624 - val_loss: 1.2154 - val_accuracy: 0.6036\n",
      "Epoch 12/200\n",
      "197/197 - 6s - loss: 0.4620 - accuracy: 0.8552 - val_loss: 1.2596 - val_accuracy: 0.6577\n",
      "Epoch 13/200\n",
      "197/197 - 6s - loss: 0.4551 - accuracy: 0.8379 - val_loss: 1.1301 - val_accuracy: 0.6847\n",
      "Epoch 14/200\n",
      "197/197 - 6s - loss: 0.4549 - accuracy: 0.8420 - val_loss: 1.1946 - val_accuracy: 0.6396\n",
      "Epoch 15/200\n",
      "197/197 - 6s - loss: 0.3593 - accuracy: 0.8787 - val_loss: 1.0380 - val_accuracy: 0.7207\n",
      "Epoch 16/200\n",
      "197/197 - 6s - loss: 0.4265 - accuracy: 0.8583 - val_loss: 1.1093 - val_accuracy: 0.7297\n",
      "Epoch 17/200\n",
      "197/197 - 8s - loss: 0.4046 - accuracy: 0.8634 - val_loss: 1.3079 - val_accuracy: 0.6937\n",
      "Epoch 18/200\n",
      "197/197 - 13s - loss: 0.4433 - accuracy: 0.8491 - val_loss: 1.0903 - val_accuracy: 0.7027\n",
      "Epoch 19/200\n",
      "197/197 - 12s - loss: 0.3729 - accuracy: 0.8603 - val_loss: 1.2409 - val_accuracy: 0.7027\n",
      "Epoch 20/200\n",
      "197/197 - 16s - loss: 0.3647 - accuracy: 0.8716 - val_loss: 1.8761 - val_accuracy: 0.4685\n",
      "Epoch 21/200\n",
      "197/197 - 21s - loss: 0.3398 - accuracy: 0.8899 - val_loss: 1.2516 - val_accuracy: 0.6757\n",
      "Epoch 22/200\n",
      "197/197 - 19s - loss: 0.3411 - accuracy: 0.8899 - val_loss: 0.9504 - val_accuracy: 0.7027\n",
      "Epoch 23/200\n",
      "197/197 - 13s - loss: 0.3559 - accuracy: 0.8909 - val_loss: 1.3254 - val_accuracy: 0.6306\n",
      "Epoch 24/200\n",
      "197/197 - 13s - loss: 0.3991 - accuracy: 0.8624 - val_loss: 1.4133 - val_accuracy: 0.6036\n",
      "Epoch 25/200\n",
      "197/197 - 13s - loss: 0.4220 - accuracy: 0.8603 - val_loss: 1.0251 - val_accuracy: 0.7207\n",
      "Epoch 26/200\n",
      "197/197 - 14s - loss: 0.3206 - accuracy: 0.8848 - val_loss: 1.3058 - val_accuracy: 0.6937\n",
      "Epoch 27/200\n",
      "197/197 - 15s - loss: 0.3245 - accuracy: 0.8909 - val_loss: 1.1448 - val_accuracy: 0.7027\n",
      "Epoch 28/200\n",
      "197/197 - 14s - loss: 0.2811 - accuracy: 0.9001 - val_loss: 1.2648 - val_accuracy: 0.7027\n",
      "Epoch 29/200\n",
      "197/197 - 15s - loss: 0.3205 - accuracy: 0.8909 - val_loss: 1.3099 - val_accuracy: 0.7207\n",
      "Epoch 30/200\n",
      "197/197 - 15s - loss: 0.3307 - accuracy: 0.8838 - val_loss: 1.2934 - val_accuracy: 0.7027\n",
      "Epoch 31/200\n",
      "197/197 - 17s - loss: 0.2891 - accuracy: 0.9083 - val_loss: 1.2245 - val_accuracy: 0.7027\n",
      "Epoch 32/200\n",
      "197/197 - 14s - loss: 0.2993 - accuracy: 0.8970 - val_loss: 1.1553 - val_accuracy: 0.6757\n",
      "Epoch 33/200\n",
      "197/197 - 14s - loss: 0.3250 - accuracy: 0.8869 - val_loss: 1.4773 - val_accuracy: 0.6667\n",
      "Epoch 34/200\n",
      "197/197 - 13s - loss: 0.3409 - accuracy: 0.8930 - val_loss: 2.5116 - val_accuracy: 0.4234\n",
      "Epoch 35/200\n",
      "197/197 - 13s - loss: 0.4394 - accuracy: 0.8552 - val_loss: 1.2482 - val_accuracy: 0.7387\n",
      "Epoch 36/200\n",
      "197/197 - 15s - loss: 0.3232 - accuracy: 0.8797 - val_loss: 1.1212 - val_accuracy: 0.6937\n",
      "Epoch 37/200\n",
      "197/197 - 15s - loss: 0.3245 - accuracy: 0.8848 - val_loss: 1.1974 - val_accuracy: 0.6486\n",
      "Epoch 38/200\n",
      "197/197 - 15s - loss: 0.3170 - accuracy: 0.9011 - val_loss: 1.1541 - val_accuracy: 0.7117\n",
      "Epoch 39/200\n",
      "197/197 - 12s - loss: 0.3304 - accuracy: 0.8858 - val_loss: 1.3647 - val_accuracy: 0.6667\n",
      "Epoch 40/200\n",
      "197/197 - 8s - loss: 0.2895 - accuracy: 0.8991 - val_loss: 1.2596 - val_accuracy: 0.6937\n",
      "Epoch 41/200\n",
      "197/197 - 8s - loss: 0.3939 - accuracy: 0.8807 - val_loss: 1.3505 - val_accuracy: 0.7117\n",
      "Epoch 42/200\n",
      "197/197 - 6s - loss: 0.3226 - accuracy: 0.8899 - val_loss: 2.0586 - val_accuracy: 0.6216\n",
      "Epoch 43/200\n",
      "197/197 - 7s - loss: 0.3441 - accuracy: 0.8797 - val_loss: 1.6328 - val_accuracy: 0.6216\n",
      "Epoch 44/200\n",
      "197/197 - 6s - loss: 0.3022 - accuracy: 0.9032 - val_loss: 1.2603 - val_accuracy: 0.7117\n",
      "Epoch 45/200\n",
      "197/197 - 7s - loss: 0.3503 - accuracy: 0.8787 - val_loss: 1.3424 - val_accuracy: 0.6306\n",
      "Epoch 46/200\n",
      "197/197 - 6s - loss: 0.2922 - accuracy: 0.9021 - val_loss: 1.0740 - val_accuracy: 0.7027\n",
      "Epoch 47/200\n",
      "197/197 - 6s - loss: 0.2729 - accuracy: 0.9072 - val_loss: 1.4365 - val_accuracy: 0.7117\n"
     ]
    },
    {
     "data": {
      "text/plain": [
       "<keras.callbacks.History at 0x2ef126d6760>"
      ]
     },
     "execution_count": 21,
     "metadata": {},
     "output_type": "execute_result"
    }
   ],
   "source": [
    "early_stopping=EarlyStopping(\n",
    "    patience=25, \n",
    "    restore_best_weights=True,\n",
    ")\n",
    "model=Sequential()\n",
    "model.add(Conv2D(filters=32,kernel_size=3,strides=(1,1),padding=\"valid\",input_shape=(40,40,1),activation=\"relu\"))\n",
    "model.add(MaxPool2D(pool_size=(2,2)))\n",
    "model.add(layers.BatchNormalization())\n",
    "model.add(layers.Dropout(.2))\n",
    "model.add(Conv2D(filters=32,kernel_size=5,strides=(1,1),padding=\"same\",activation=\"relu\"))\n",
    "model.add(MaxPool2D(pool_size=(2,2)))\n",
    "model.add(layers.BatchNormalization())\n",
    "model.add(Conv2D(filters=20,kernel_size=7,strides=(1,1),padding=\"valid\",activation=\"relu\"))\n",
    "model.add(MaxPool2D(pool_size=(2,2)))\n",
    "model.add(layers.BatchNormalization())\n",
    "model.add(Flatten())\n",
    "model.add(Dense(5,activation=\"softmax\")) \n",
    "model.summary()\n",
    "model.compile(loss=\"categorical_crossentropy\",optimizer=\"adam\",metrics=[\"accuracy\"])\n",
    "model.fit(x_train,epochs=200,callbacks=[early_stopping],validation_data=validation,verbose=2) "
   ]
  },
  {
   "cell_type": "code",
   "execution_count": 22,
   "id": "b4f0761d",
   "metadata": {},
   "outputs": [
    {
     "name": "stdout",
     "output_type": "stream",
     "text": [
      "56/56 [==============================] - 2s 44ms/step - loss: 0.8088 - accuracy: 0.8571\n",
      "[0.8088387250900269, 0.8571428656578064]\n"
     ]
    }
   ],
   "source": [
    "score=model.evaluate(test)\n",
    "print(score)"
   ]
  },
  {
   "cell_type": "code",
   "execution_count": 23,
   "id": "dc382da2",
   "metadata": {},
   "outputs": [],
   "source": [
    "model.save(\"model.h5\")"
   ]
  },
  {
   "cell_type": "code",
   "execution_count": 25,
   "id": "e82df7fb",
   "metadata": {},
   "outputs": [
    {
     "data": {
      "text/plain": [
       "array([[0.02503403, 0.19614172, 0.04598197, 0.01257027, 0.72027206]],\n",
       "      dtype=float32)"
      ]
     },
     "execution_count": 25,
     "metadata": {},
     "output_type": "execute_result"
    }
   ],
   "source": [
    "artificialimage=np.zeros((40,40))\n",
    "image=np.reshape(artificialimage,(1,40,40,1))\n",
    "new_model=keras.models.load_model(\"model.h5\")\n",
    "new_model.predict(image)"
   ]
  },
  {
   "cell_type": "code",
   "execution_count": 94,
   "id": "c2a8cc7d",
   "metadata": {},
   "outputs": [],
   "source": []
  }
 ],
 "metadata": {
  "kernelspec": {
   "display_name": "Python 3",
   "language": "python",
   "name": "python3"
  },
  "language_info": {
   "codemirror_mode": {
    "name": "ipython",
    "version": 3
   },
   "file_extension": ".py",
   "mimetype": "text/x-python",
   "name": "python",
   "nbconvert_exporter": "python",
   "pygments_lexer": "ipython3",
   "version": "3.9.1"
  }
 },
 "nbformat": 4,
 "nbformat_minor": 5
}
