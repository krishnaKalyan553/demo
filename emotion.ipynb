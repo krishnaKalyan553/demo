{
 "cells": [
  {
   "cell_type": "code",
   "execution_count": 2,
   "id": "c3b66f09",
   "metadata": {},
   "outputs": [],
   "source": [
    "import numpy as np\n",
    "import keras\n",
    "from keras.models import Sequential\n",
    "from keras.layers import Conv2D,MaxPool2D,Dense,Flatten,Reshape\n",
    "from keras import layers\n",
    "import matplotlib.pyplot as plt\n",
    "import os \n",
    "import cv2\n",
    "from tensorflow.keras.callbacks import EarlyStopping\n",
    "from sklearn.model_selection import train_test_split"
   ]
  },
  {
   "cell_type": "code",
   "execution_count": 3,
   "id": "92157c39",
   "metadata": {},
   "outputs": [],
   "source": [
    "x=[]\n",
    "y=[]\n",
    "mapping={\n",
    "    \"anger\":0,\n",
    "    \"disgust\":1,\n",
    "    \"fear\":2,\n",
    "    \"happy\":3,\n",
    "    \"neutral\":4\n",
    "}\n",
    "path=r\"C:\\Users\\Suma\\Desktop\\FACE_RECOGNITION\\Emotion\"\n",
    "for relate in mapping.keys():\n",
    "    for img in os.listdir(os.path.join(path,relate)):\n",
    "        im=cv2.imread(os.path.join(path,relate,img))\n",
    "        im=cv2.cvtColor(im,cv2.COLOR_BGR2GRAY)\n",
    "        im=cv2.resize(im,(40,40))\n",
    "        x.append(im)\n",
    "        y.append(mapping[relate])\n",
    "x=np.array(x)\n",
    "y=np.array(y)\n",
    "x=x.reshape(x.shape[0],40,40,1)\n",
    "x=x.astype('float32')\n",
    "x=x/255\n",
    "x_train,x_test,y_train,y_test=train_test_split(x,y,test_size=0.1)\n",
    "x_train,x_valid,y_train,y_valid=train_test_split(x_train,y_train,test_size=0.1)\n",
    "early_stopping=EarlyStopping(\n",
    "    patience=25, \n",
    "    restore_best_weights=True,\n",
    ")"
   ]
  },
  {
   "cell_type": "code",
   "execution_count": 4,
   "id": "c796e1e1",
   "metadata": {},
   "outputs": [
    {
     "data": {
      "text/plain": [
       "(344, 40, 40, 1)"
      ]
     },
     "execution_count": 4,
     "metadata": {},
     "output_type": "execute_result"
    }
   ],
   "source": [
    "x_valid.shape"
   ]
  },
  {
   "cell_type": "code",
   "execution_count": 5,
   "id": "0de8a7c8",
   "metadata": {
    "scrolled": true
   },
   "outputs": [
    {
     "name": "stdout",
     "output_type": "stream",
     "text": [
      "Model: \"sequential\"\n",
      "_________________________________________________________________\n",
      "Layer (type)                 Output Shape              Param #   \n",
      "=================================================================\n",
      "conv2d (Conv2D)              (None, 38, 38, 25)        250       \n",
      "_________________________________________________________________\n",
      "leaky_re_lu (LeakyReLU)      (None, 38, 38, 25)        0         \n",
      "_________________________________________________________________\n",
      "max_pooling2d (MaxPooling2D) (None, 19, 19, 25)        0         \n",
      "_________________________________________________________________\n",
      "batch_normalization (BatchNo (None, 19, 19, 25)        100       \n",
      "_________________________________________________________________\n",
      "conv2d_1 (Conv2D)            (None, 19, 19, 10)        6260      \n",
      "_________________________________________________________________\n",
      "leaky_re_lu_1 (LeakyReLU)    (None, 19, 19, 10)        0         \n",
      "_________________________________________________________________\n",
      "max_pooling2d_1 (MaxPooling2 (None, 9, 9, 10)          0         \n",
      "_________________________________________________________________\n",
      "batch_normalization_1 (Batch (None, 9, 9, 10)          40        \n",
      "_________________________________________________________________\n",
      "conv2d_2 (Conv2D)            (None, 3, 3, 5)           2455      \n",
      "_________________________________________________________________\n",
      "leaky_re_lu_2 (LeakyReLU)    (None, 3, 3, 5)           0         \n",
      "_________________________________________________________________\n",
      "max_pooling2d_2 (MaxPooling2 (None, 1, 1, 5)           0         \n",
      "_________________________________________________________________\n",
      "batch_normalization_2 (Batch (None, 1, 1, 5)           20        \n",
      "_________________________________________________________________\n",
      "flatten (Flatten)            (None, 5)                 0         \n",
      "_________________________________________________________________\n",
      "dense (Dense)                (None, 5)                 30        \n",
      "=================================================================\n",
      "Total params: 9,155\n",
      "Trainable params: 9,075\n",
      "Non-trainable params: 80\n",
      "_________________________________________________________________\n",
      "Epoch 1/200\n",
      "97/97 [==============================] - 10s 95ms/step - loss: 1.5900 - accuracy: 0.2883 - val_loss: 1.5223 - val_accuracy: 0.3750\n",
      "Epoch 2/200\n",
      "97/97 [==============================] - 9s 88ms/step - loss: 1.3809 - accuracy: 0.4239 - val_loss: 1.4990 - val_accuracy: 0.3808\n",
      "Epoch 3/200\n",
      "97/97 [==============================] - 9s 96ms/step - loss: 1.2771 - accuracy: 0.4709 - val_loss: 1.4536 - val_accuracy: 0.4041\n",
      "Epoch 4/200\n",
      "97/97 [==============================] - 9s 91ms/step - loss: 1.1888 - accuracy: 0.5230 - val_loss: 1.3716 - val_accuracy: 0.4302\n",
      "Epoch 5/200\n",
      "97/97 [==============================] - 9s 92ms/step - loss: 1.1060 - accuracy: 0.5553 - val_loss: 1.4336 - val_accuracy: 0.4012\n",
      "Epoch 6/200\n",
      "97/97 [==============================] - 9s 90ms/step - loss: 1.0380 - accuracy: 0.5935 - val_loss: 1.2217 - val_accuracy: 0.5058\n",
      "Epoch 7/200\n",
      "97/97 [==============================] - 9s 91ms/step - loss: 0.9659 - accuracy: 0.6294 - val_loss: 1.1858 - val_accuracy: 0.5378\n",
      "Epoch 8/200\n",
      "97/97 [==============================] - 9s 90ms/step - loss: 0.9083 - accuracy: 0.6508 - val_loss: 1.1022 - val_accuracy: 0.5465\n",
      "Epoch 9/200\n",
      "97/97 [==============================] - 9s 92ms/step - loss: 0.8781 - accuracy: 0.6605 - val_loss: 1.1392 - val_accuracy: 0.5610\n",
      "Epoch 10/200\n",
      "97/97 [==============================] - 9s 96ms/step - loss: 0.8174 - accuracy: 0.6832 - val_loss: 1.2703 - val_accuracy: 0.5058\n",
      "Epoch 11/200\n",
      "97/97 [==============================] - 9s 94ms/step - loss: 0.7647 - accuracy: 0.6977 - val_loss: 1.1268 - val_accuracy: 0.5698\n",
      "Epoch 12/200\n",
      "97/97 [==============================] - 9s 92ms/step - loss: 0.7214 - accuracy: 0.7168 - val_loss: 1.1872 - val_accuracy: 0.6017\n",
      "Epoch 13/200\n",
      "97/97 [==============================] - 9s 92ms/step - loss: 0.6784 - accuracy: 0.7437 - val_loss: 1.1953 - val_accuracy: 0.5785\n",
      "Epoch 14/200\n",
      "97/97 [==============================] - 9s 92ms/step - loss: 0.6492 - accuracy: 0.7485 - val_loss: 1.2217 - val_accuracy: 0.5669\n",
      "Epoch 15/200\n",
      "97/97 [==============================] - 9s 97ms/step - loss: 0.6103 - accuracy: 0.7505 - val_loss: 1.1918 - val_accuracy: 0.5610\n",
      "Epoch 16/200\n",
      "97/97 [==============================] - 9s 94ms/step - loss: 0.5664 - accuracy: 0.7790 - val_loss: 1.3367 - val_accuracy: 0.5785\n",
      "Epoch 17/200\n",
      "97/97 [==============================] - 9s 93ms/step - loss: 0.5336 - accuracy: 0.7906 - val_loss: 1.2913 - val_accuracy: 0.5698\n",
      "Epoch 18/200\n",
      "97/97 [==============================] - 9s 97ms/step - loss: 0.5188 - accuracy: 0.7961 - val_loss: 1.3480 - val_accuracy: 0.5552\n",
      "Epoch 19/200\n",
      "97/97 [==============================] - 9s 94ms/step - loss: 0.4705 - accuracy: 0.8246 - val_loss: 1.3350 - val_accuracy: 0.5727\n",
      "Epoch 20/200\n",
      "97/97 [==============================] - 9s 92ms/step - loss: 0.4484 - accuracy: 0.8265 - val_loss: 1.4044 - val_accuracy: 0.5669\n",
      "Epoch 21/200\n",
      "97/97 [==============================] - 9s 93ms/step - loss: 0.4228 - accuracy: 0.8401 - val_loss: 1.7102 - val_accuracy: 0.5407\n",
      "Epoch 22/200\n",
      "97/97 [==============================] - 9s 93ms/step - loss: 0.4184 - accuracy: 0.8356 - val_loss: 1.4438 - val_accuracy: 0.5872\n",
      "Epoch 23/200\n",
      "97/97 [==============================] - 9s 93ms/step - loss: 0.3760 - accuracy: 0.8615 - val_loss: 1.5200 - val_accuracy: 0.5378\n",
      "Epoch 24/200\n",
      "97/97 [==============================] - 9s 94ms/step - loss: 0.3428 - accuracy: 0.8777 - val_loss: 1.6098 - val_accuracy: 0.5698\n",
      "Epoch 25/200\n",
      "97/97 [==============================] - 9s 97ms/step - loss: 0.3394 - accuracy: 0.8757 - val_loss: 1.5806 - val_accuracy: 0.5552\n",
      "Epoch 26/200\n",
      "97/97 [==============================] - 9s 93ms/step - loss: 0.3558 - accuracy: 0.8715 - val_loss: 1.8646 - val_accuracy: 0.4680\n",
      "Epoch 27/200\n",
      "97/97 [==============================] - 9s 92ms/step - loss: 0.3313 - accuracy: 0.8799 - val_loss: 1.7404 - val_accuracy: 0.5407: 0.3314 - accuracy\n",
      "Epoch 28/200\n",
      "97/97 [==============================] - 9s 96ms/step - loss: 0.2955 - accuracy: 0.8968 - val_loss: 1.7444 - val_accuracy: 0.5378\n",
      "Epoch 29/200\n",
      "97/97 [==============================] - 9s 92ms/step - loss: 0.2894 - accuracy: 0.8968 - val_loss: 1.8446 - val_accuracy: 0.5669\n",
      "Epoch 30/200\n",
      "97/97 [==============================] - 9s 95ms/step - loss: 0.2559 - accuracy: 0.9172 - val_loss: 1.8486 - val_accuracy: 0.5000\n",
      "Epoch 31/200\n",
      "97/97 [==============================] - 9s 94ms/step - loss: 0.2500 - accuracy: 0.9146 - val_loss: 1.8293 - val_accuracy: 0.5233\n",
      "Epoch 32/200\n",
      "97/97 [==============================] - 9s 94ms/step - loss: 0.2248 - accuracy: 0.9223 - val_loss: 1.9153 - val_accuracy: 0.5174\n",
      "Epoch 33/200\n",
      "97/97 [==============================] - 9s 94ms/step - loss: 0.2178 - accuracy: 0.9269 - val_loss: 1.9149 - val_accuracy: 0.5610\n"
     ]
    },
    {
     "data": {
      "text/plain": [
       "<keras.callbacks.History at 0x201b146d520>"
      ]
     },
     "execution_count": 5,
     "metadata": {},
     "output_type": "execute_result"
    }
   ],
   "source": [
    "emotion =Sequential()\n",
    "emotion.add(Conv2D(filters=25,kernel_size=3,strides=(1,1),padding=\"valid\",input_shape=(40,40,1)))\n",
    "emotion.add(layers.LeakyReLU(alpha=0.1))\n",
    "emotion.add(MaxPool2D(pool_size=(2,2)))\n",
    "emotion.add(layers.BatchNormalization()) \n",
    "emotion.add(Conv2D(filters=10,kernel_size=5,strides=(1,1),padding=\"same\")) \n",
    "emotion.add(layers.LeakyReLU(alpha=0.1))\n",
    "emotion.add(MaxPool2D(pool_size=(2,2)))\n",
    "emotion.add(layers.BatchNormalization())\n",
    "emotion.add(Conv2D(filters=5,kernel_size=7,strides=(1,1),padding=\"valid\")) \n",
    "emotion.add(layers.LeakyReLU(alpha=0.1))\n",
    "emotion.add(MaxPool2D(pool_size=(2,2)))\n",
    "emotion.add(layers.BatchNormalization())\n",
    "emotion.add(Flatten())\n",
    "emotion.add(Dense(5,activation=\"softmax\"))\n",
    "emotion.summary()\n",
    "emotion.compile(loss=\"sparse_categorical_crossentropy\",optimizer=\"adam\",metrics=[\"accuracy\"])\n",
    "emotion.fit(x_train,y_train,epochs=200,callbacks=[early_stopping],validation_data=(x_valid, y_valid)) "
   ]
  },
  {
   "cell_type": "code",
   "execution_count": 6,
   "id": "bbeb41c2",
   "metadata": {},
   "outputs": [
    {
     "name": "stdout",
     "output_type": "stream",
     "text": [
      "12/12 [==============================] - 0s 22ms/step - loss: 1.1524 - accuracy: 0.5340\n",
      "[1.1524022817611694, 0.5340313911437988]\n"
     ]
    }
   ],
   "source": [
    "print(emotion.evaluate(x_test,y_test))"
   ]
  },
  {
   "cell_type": "code",
   "execution_count": 7,
   "id": "cf5f3b24",
   "metadata": {},
   "outputs": [],
   "source": [
    "emotion.save(\"emotion_model.h5\")"
   ]
  },
  {
   "cell_type": "code",
   "execution_count": 8,
   "id": "b927244f",
   "metadata": {},
   "outputs": [],
   "source": [
    "new_model=keras.models.load_model(\"emotion_model.h5\")"
   ]
  },
  {
   "cell_type": "code",
   "execution_count": 9,
   "id": "4c4679ac",
   "metadata": {},
   "outputs": [
    {
     "data": {
      "text/plain": [
       "array([[0.06600445, 0.02694964, 0.03026776, 0.00996546, 0.86681265]],\n",
       "      dtype=float32)"
      ]
     },
     "execution_count": 9,
     "metadata": {},
     "output_type": "execute_result"
    }
   ],
   "source": [
    "new_model.predict(x_valid[0].reshape(-1,40,40,1))"
   ]
  },
  {
   "cell_type": "code",
   "execution_count": null,
   "id": "891cad8f",
   "metadata": {},
   "outputs": [],
   "source": []
  }
 ],
 "metadata": {
  "kernelspec": {
   "display_name": "Python 3",
   "language": "python",
   "name": "python3"
  },
  "language_info": {
   "codemirror_mode": {
    "name": "ipython",
    "version": 3
   },
   "file_extension": ".py",
   "mimetype": "text/x-python",
   "name": "python",
   "nbconvert_exporter": "python",
   "pygments_lexer": "ipython3",
   "version": "3.9.1"
  }
 },
 "nbformat": 4,
 "nbformat_minor": 5
}
