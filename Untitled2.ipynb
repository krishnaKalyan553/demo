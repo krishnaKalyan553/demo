{
  "nbformat": 4,
  "nbformat_minor": 0,
  "metadata": {
    "colab": {
      "name": "Untitled2.ipynb",
      "provenance": [],
      "authorship_tag": "ABX9TyOfvb46TGRpSydcvHAqnjiI",
      "include_colab_link": true
    },
    "kernelspec": {
      "name": "python3",
      "display_name": "Python 3"
    },
    "language_info": {
      "name": "python"
    },
    "accelerator": "TPU"
  },
  "cells": [
    {
      "cell_type": "markdown",
      "metadata": {
        "id": "view-in-github",
        "colab_type": "text"
      },
      "source": [
        "<a href=\"https://colab.research.google.com/github/krishnaKalyan553/demo/blob/main/Untitled2.ipynb\" target=\"_parent\"><img src=\"https://colab.research.google.com/assets/colab-badge.svg\" alt=\"Open In Colab\"/></a>"
      ]
    },
    {
      "cell_type": "code",
      "metadata": {
        "id": "HbJIam2Y-xuv"
      },
      "source": [
        "from zipfile import ZipFile\n",
        "import numpy as np\n",
        "import keras\n",
        "from keras.models import Sequential\n",
        "from keras.layers import Conv2D,MaxPool2D,Dense,Flatten,Reshape\n",
        "from keras import layers\n",
        "import matplotlib.pyplot as plt\n",
        "import os \n",
        "import cv2\n",
        "from tensorflow.keras.callbacks import EarlyStopping\n",
        "from sklearn.model_selection import train_test_split\n",
        "from keras.preprocessing.image import ImageDataGenerator "
      ],
      "execution_count": null,
      "outputs": []
    },
    {
      "cell_type": "code",
      "metadata": {
        "colab": {
          "base_uri": "https://localhost:8080/"
        },
        "id": "DIryGFsDWDoY",
        "outputId": "a75adb88-0b65-444c-a4d4-beb22fa6f185"
      },
      "source": [
        "file=[\"brother.zip\",\"father.zip\",\"mother.zip\",\"sister.zip\",\"stranger.zip\"]\n",
        "for file_name in file:\n",
        "  with  ZipFile(file_name, 'r') as zip:\n",
        "    print('Extracting all the files now...')\n",
        "    zip.extractall()\n",
        "print('Done!')"
      ],
      "execution_count": null,
      "outputs": [
        {
          "output_type": "stream",
          "text": [
            "Extracting all the files now...\n",
            "Extracting all the files now...\n",
            "Extracting all the files now...\n",
            "Extracting all the files now...\n",
            "Extracting all the files now...\n",
            "Done!\n"
          ],
          "name": "stdout"
        }
      ]
    },
    {
      "cell_type": "code",
      "metadata": {
        "id": "UZe_2pPi6iMq"
      },
      "source": [
        "x=[]\n",
        "y=[]\n",
        "mapping={\n",
        "    \"brother\":0,\n",
        "    \"father\":1,\n",
        "    \"mother\":2,\n",
        "    \"sister\":3,\n",
        "    \"stranger\":4\n",
        "    }\n",
        "path=\"/content\"\n",
        "for relate in mapping.keys():\n",
        "  for img in os.listdir(os.path.join(path,relate)):\n",
        "    im=cv2.imread(os.path.join(path,relate,img))\n",
        "    im=cv2.cvtColor(im,cv2.COLOR_BGR2GRAY)\n",
        "    im=cv2.resize(im,(30,30))\n",
        "    x.append(im)\n",
        "    y.append(mapping[relate])\n",
        "x=np.array(x)\n",
        "y=np.array(y)\n",
        "x=x.reshape(x.shape[0],30,30,1)\n",
        "x=x.astype('float32')\n",
        "x=x/255\n",
        "x_train,x_test,y_train,y_test=train_test_split(x,y,test_size=0.2)\n",
        "x_train,x_valid,y_train,y_valid=train_test_split(x_train,y_train,test_size=0.2)\n",
        "early_stopping=EarlyStopping(\n",
        "    min_delta=0.002,\n",
        "    patience=20, \n",
        "    restore_best_weights=True,\n",
        ")"
      ],
      "execution_count": null,
      "outputs": []
    },
    {
      "cell_type": "code",
      "metadata": {
        "colab": {
          "base_uri": "https://localhost:8080/"
        },
        "id": "8ZTCUQLHFDVt",
        "outputId": "53b2d073-25d0-4662-d45e-f2e364b870be"
      },
      "source": [
        "model=Sequential()\n",
        "model.add(Conv2D(filters=10,kernel_size=2,strides=(1,1),padding=\"valid\",input_shape=(30,30,1),activation=\"relu\"))\n",
        "model.add(MaxPool2D(pool_size=(2,2)))\n",
        "model.add(layers.BatchNormalization())\n",
        "model.add(layers.Dropout(.2))\n",
        "model.add(Conv2D(filters=10,kernel_size=3,strides=(1,1),padding=\"same\",activation=\"relu\"))\n",
        "model.add(MaxPool2D(pool_size=(2,2)))\n",
        "model.add(layers.BatchNormalization())\n",
        "model.add(layers.Dropout(.1))\n",
        "model.add(Flatten())\n",
        "model.add(Dense(5,activation=\"softmax\"))\n",
        "model.summary()\n",
        "model.compile(loss=\"sparse_categorical_crossentropy\",optimizer=\"adam\",metrics=[\"accuracy\"])\n",
        "model.fit(x_train,y_train,epochs=200,callbacks=[early_stopping],validation_data=(x_valid, y_valid))"
      ],
      "execution_count": null,
      "outputs": [
        {
          "output_type": "stream",
          "text": [
            "Model: \"sequential_9\"\n",
            "_________________________________________________________________\n",
            "Layer (type)                 Output Shape              Param #   \n",
            "=================================================================\n",
            "conv2d_19 (Conv2D)           (None, 29, 29, 10)        50        \n",
            "_________________________________________________________________\n",
            "max_pooling2d_19 (MaxPooling (None, 14, 14, 10)        0         \n",
            "_________________________________________________________________\n",
            "batch_normalization_19 (Batc (None, 14, 14, 10)        40        \n",
            "_________________________________________________________________\n",
            "dropout_18 (Dropout)         (None, 14, 14, 10)        0         \n",
            "_________________________________________________________________\n",
            "conv2d_20 (Conv2D)           (None, 14, 14, 10)        910       \n",
            "_________________________________________________________________\n",
            "max_pooling2d_20 (MaxPooling (None, 7, 7, 10)          0         \n",
            "_________________________________________________________________\n",
            "batch_normalization_20 (Batc (None, 7, 7, 10)          40        \n",
            "_________________________________________________________________\n",
            "dropout_19 (Dropout)         (None, 7, 7, 10)          0         \n",
            "_________________________________________________________________\n",
            "flatten_9 (Flatten)          (None, 490)               0         \n",
            "_________________________________________________________________\n",
            "dense_9 (Dense)              (None, 5)                 2455      \n",
            "=================================================================\n",
            "Total params: 3,495\n",
            "Trainable params: 3,455\n",
            "Non-trainable params: 40\n",
            "_________________________________________________________________\n",
            "Epoch 1/200\n",
            "21/21 [==============================] - 1s 29ms/step - loss: 1.8444 - accuracy: 0.3378 - val_loss: 1.5632 - val_accuracy: 0.2500\n",
            "Epoch 2/200\n",
            "21/21 [==============================] - 0s 21ms/step - loss: 1.2124 - accuracy: 0.5342 - val_loss: 1.5371 - val_accuracy: 0.2440\n",
            "Epoch 3/200\n",
            "21/21 [==============================] - 0s 21ms/step - loss: 0.9932 - accuracy: 0.6369 - val_loss: 1.5769 - val_accuracy: 0.2440\n",
            "Epoch 4/200\n",
            "21/21 [==============================] - 0s 21ms/step - loss: 0.8315 - accuracy: 0.7336 - val_loss: 1.6889 - val_accuracy: 0.2440\n",
            "Epoch 5/200\n",
            "21/21 [==============================] - 0s 22ms/step - loss: 0.7217 - accuracy: 0.7500 - val_loss: 1.7132 - val_accuracy: 0.2440\n",
            "Epoch 6/200\n",
            "21/21 [==============================] - 0s 21ms/step - loss: 0.5929 - accuracy: 0.8095 - val_loss: 1.8050 - val_accuracy: 0.2440\n",
            "Epoch 7/200\n",
            "21/21 [==============================] - 0s 22ms/step - loss: 0.5296 - accuracy: 0.8289 - val_loss: 1.8387 - val_accuracy: 0.2440\n",
            "Epoch 8/200\n",
            "21/21 [==============================] - 0s 22ms/step - loss: 0.4860 - accuracy: 0.8423 - val_loss: 1.8190 - val_accuracy: 0.2440\n",
            "Epoch 9/200\n",
            "21/21 [==============================] - 0s 22ms/step - loss: 0.4195 - accuracy: 0.8750 - val_loss: 2.0655 - val_accuracy: 0.2440\n",
            "Epoch 10/200\n",
            "21/21 [==============================] - 0s 21ms/step - loss: 0.3721 - accuracy: 0.8795 - val_loss: 1.9684 - val_accuracy: 0.2500\n",
            "Epoch 11/200\n",
            "21/21 [==============================] - 0s 22ms/step - loss: 0.3335 - accuracy: 0.9048 - val_loss: 1.9798 - val_accuracy: 0.2560\n",
            "Epoch 12/200\n",
            "21/21 [==============================] - 0s 22ms/step - loss: 0.3102 - accuracy: 0.9211 - val_loss: 1.8950 - val_accuracy: 0.2560\n",
            "Epoch 13/200\n",
            "21/21 [==============================] - 0s 21ms/step - loss: 0.2576 - accuracy: 0.9301 - val_loss: 1.6317 - val_accuracy: 0.3274\n",
            "Epoch 14/200\n",
            "21/21 [==============================] - 0s 21ms/step - loss: 0.2325 - accuracy: 0.9405 - val_loss: 1.6096 - val_accuracy: 0.3393\n",
            "Epoch 15/200\n",
            "21/21 [==============================] - 0s 22ms/step - loss: 0.2274 - accuracy: 0.9301 - val_loss: 1.5625 - val_accuracy: 0.3393\n",
            "Epoch 16/200\n",
            "21/21 [==============================] - 0s 22ms/step - loss: 0.1847 - accuracy: 0.9598 - val_loss: 1.4736 - val_accuracy: 0.3929\n",
            "Epoch 17/200\n",
            "21/21 [==============================] - 0s 23ms/step - loss: 0.1857 - accuracy: 0.9524 - val_loss: 1.1769 - val_accuracy: 0.5060\n",
            "Epoch 18/200\n",
            "21/21 [==============================] - 0s 23ms/step - loss: 0.1633 - accuracy: 0.9539 - val_loss: 1.0680 - val_accuracy: 0.5833\n",
            "Epoch 19/200\n",
            "21/21 [==============================] - 0s 21ms/step - loss: 0.1561 - accuracy: 0.9509 - val_loss: 0.9565 - val_accuracy: 0.6250\n",
            "Epoch 20/200\n",
            "21/21 [==============================] - 0s 22ms/step - loss: 0.1469 - accuracy: 0.9688 - val_loss: 0.8110 - val_accuracy: 0.6667\n",
            "Epoch 21/200\n",
            "21/21 [==============================] - 0s 22ms/step - loss: 0.1403 - accuracy: 0.9613 - val_loss: 0.7328 - val_accuracy: 0.6964\n",
            "Epoch 22/200\n",
            "21/21 [==============================] - 0s 21ms/step - loss: 0.1293 - accuracy: 0.9732 - val_loss: 0.6226 - val_accuracy: 0.7500\n",
            "Epoch 23/200\n",
            "21/21 [==============================] - 0s 21ms/step - loss: 0.1276 - accuracy: 0.9658 - val_loss: 0.5322 - val_accuracy: 0.7917\n",
            "Epoch 24/200\n",
            "21/21 [==============================] - 0s 22ms/step - loss: 0.1031 - accuracy: 0.9762 - val_loss: 0.5305 - val_accuracy: 0.7798\n",
            "Epoch 25/200\n",
            "21/21 [==============================] - 0s 21ms/step - loss: 0.0973 - accuracy: 0.9747 - val_loss: 0.5005 - val_accuracy: 0.8036\n",
            "Epoch 26/200\n",
            "21/21 [==============================] - 0s 22ms/step - loss: 0.0921 - accuracy: 0.9807 - val_loss: 0.3764 - val_accuracy: 0.8512\n",
            "Epoch 27/200\n",
            "21/21 [==============================] - 0s 22ms/step - loss: 0.0917 - accuracy: 0.9821 - val_loss: 0.3215 - val_accuracy: 0.8631\n",
            "Epoch 28/200\n",
            "21/21 [==============================] - 0s 22ms/step - loss: 0.0933 - accuracy: 0.9732 - val_loss: 0.2324 - val_accuracy: 0.9107\n",
            "Epoch 29/200\n",
            "21/21 [==============================] - 0s 22ms/step - loss: 0.0900 - accuracy: 0.9807 - val_loss: 0.1676 - val_accuracy: 0.9345\n",
            "Epoch 30/200\n",
            "21/21 [==============================] - 0s 21ms/step - loss: 0.0631 - accuracy: 0.9955 - val_loss: 0.1686 - val_accuracy: 0.9345\n",
            "Epoch 31/200\n",
            "21/21 [==============================] - 0s 22ms/step - loss: 0.0610 - accuracy: 0.9896 - val_loss: 0.1534 - val_accuracy: 0.9405\n",
            "Epoch 32/200\n",
            "21/21 [==============================] - 0s 21ms/step - loss: 0.0634 - accuracy: 0.9881 - val_loss: 0.0958 - val_accuracy: 0.9762\n",
            "Epoch 33/200\n",
            "21/21 [==============================] - 0s 22ms/step - loss: 0.0741 - accuracy: 0.9851 - val_loss: 0.0911 - val_accuracy: 0.9821\n",
            "Epoch 34/200\n",
            "21/21 [==============================] - 0s 22ms/step - loss: 0.0718 - accuracy: 0.9866 - val_loss: 0.0912 - val_accuracy: 0.9881\n",
            "Epoch 35/200\n",
            "21/21 [==============================] - 0s 22ms/step - loss: 0.0584 - accuracy: 0.9896 - val_loss: 0.0882 - val_accuracy: 0.9643\n",
            "Epoch 36/200\n",
            "21/21 [==============================] - 0s 22ms/step - loss: 0.0590 - accuracy: 0.9881 - val_loss: 0.0696 - val_accuracy: 0.9762\n",
            "Epoch 37/200\n",
            "21/21 [==============================] - 0s 21ms/step - loss: 0.0508 - accuracy: 0.9911 - val_loss: 0.0705 - val_accuracy: 0.9762\n",
            "Epoch 38/200\n",
            "21/21 [==============================] - 0s 22ms/step - loss: 0.0561 - accuracy: 0.9851 - val_loss: 0.0564 - val_accuracy: 0.9940\n",
            "Epoch 39/200\n",
            "21/21 [==============================] - 0s 22ms/step - loss: 0.0567 - accuracy: 0.9881 - val_loss: 0.0589 - val_accuracy: 0.9762\n",
            "Epoch 40/200\n",
            "21/21 [==============================] - 0s 22ms/step - loss: 0.0499 - accuracy: 0.9911 - val_loss: 0.0726 - val_accuracy: 0.9762\n",
            "Epoch 41/200\n",
            "21/21 [==============================] - 0s 22ms/step - loss: 0.0447 - accuracy: 0.9955 - val_loss: 0.0610 - val_accuracy: 0.9762\n",
            "Epoch 42/200\n",
            "21/21 [==============================] - 0s 22ms/step - loss: 0.0564 - accuracy: 0.9821 - val_loss: 0.0595 - val_accuracy: 0.9821\n",
            "Epoch 43/200\n",
            "21/21 [==============================] - 0s 22ms/step - loss: 0.0520 - accuracy: 0.9881 - val_loss: 0.0478 - val_accuracy: 0.9821\n",
            "Epoch 44/200\n",
            "21/21 [==============================] - 0s 22ms/step - loss: 0.0469 - accuracy: 0.9926 - val_loss: 0.0446 - val_accuracy: 0.9821\n",
            "Epoch 45/200\n",
            "21/21 [==============================] - 0s 22ms/step - loss: 0.0320 - accuracy: 0.9940 - val_loss: 0.0472 - val_accuracy: 0.9762\n",
            "Epoch 46/200\n",
            "21/21 [==============================] - 0s 22ms/step - loss: 0.0348 - accuracy: 0.9970 - val_loss: 0.0570 - val_accuracy: 0.9821\n",
            "Epoch 47/200\n",
            "21/21 [==============================] - 0s 22ms/step - loss: 0.0379 - accuracy: 0.9940 - val_loss: 0.0436 - val_accuracy: 0.9821\n",
            "Epoch 48/200\n",
            "21/21 [==============================] - 0s 21ms/step - loss: 0.0431 - accuracy: 0.9896 - val_loss: 0.0405 - val_accuracy: 0.9821\n",
            "Epoch 49/200\n",
            "21/21 [==============================] - 0s 22ms/step - loss: 0.0441 - accuracy: 0.9896 - val_loss: 0.0502 - val_accuracy: 0.9821\n",
            "Epoch 50/200\n",
            "21/21 [==============================] - 0s 22ms/step - loss: 0.0377 - accuracy: 0.9940 - val_loss: 0.0445 - val_accuracy: 0.9762\n",
            "Epoch 51/200\n",
            "21/21 [==============================] - 0s 22ms/step - loss: 0.0423 - accuracy: 0.9896 - val_loss: 0.0458 - val_accuracy: 0.9762\n",
            "Epoch 52/200\n",
            "21/21 [==============================] - 0s 22ms/step - loss: 0.0398 - accuracy: 0.9926 - val_loss: 0.0437 - val_accuracy: 0.9881\n",
            "Epoch 53/200\n",
            "21/21 [==============================] - 0s 22ms/step - loss: 0.0330 - accuracy: 0.9970 - val_loss: 0.0415 - val_accuracy: 0.9821\n",
            "Epoch 54/200\n",
            "21/21 [==============================] - 0s 21ms/step - loss: 0.0294 - accuracy: 0.9940 - val_loss: 0.0465 - val_accuracy: 0.9940\n",
            "Epoch 55/200\n",
            "21/21 [==============================] - 0s 21ms/step - loss: 0.0238 - accuracy: 0.9970 - val_loss: 0.0385 - val_accuracy: 0.9940\n",
            "Epoch 56/200\n",
            "21/21 [==============================] - 0s 22ms/step - loss: 0.0254 - accuracy: 0.9970 - val_loss: 0.0383 - val_accuracy: 0.9940\n",
            "Epoch 57/200\n",
            "21/21 [==============================] - 0s 21ms/step - loss: 0.0237 - accuracy: 0.9970 - val_loss: 0.0521 - val_accuracy: 0.9762\n",
            "Epoch 58/200\n",
            "21/21 [==============================] - 0s 22ms/step - loss: 0.0215 - accuracy: 0.9985 - val_loss: 0.0329 - val_accuracy: 0.9881\n",
            "Epoch 59/200\n",
            "21/21 [==============================] - 0s 22ms/step - loss: 0.0254 - accuracy: 0.9985 - val_loss: 0.0252 - val_accuracy: 0.9881\n",
            "Epoch 60/200\n",
            "21/21 [==============================] - 0s 22ms/step - loss: 0.0250 - accuracy: 0.9985 - val_loss: 0.0371 - val_accuracy: 0.9821\n",
            "Epoch 61/200\n",
            "21/21 [==============================] - 0s 22ms/step - loss: 0.0213 - accuracy: 0.9985 - val_loss: 0.0375 - val_accuracy: 0.9821\n",
            "Epoch 62/200\n",
            "21/21 [==============================] - 0s 22ms/step - loss: 0.0254 - accuracy: 0.9940 - val_loss: 0.0349 - val_accuracy: 0.9821\n",
            "Epoch 63/200\n",
            "21/21 [==============================] - 0s 23ms/step - loss: 0.0198 - accuracy: 0.9985 - val_loss: 0.0291 - val_accuracy: 0.9821\n",
            "Epoch 64/200\n",
            "21/21 [==============================] - 0s 22ms/step - loss: 0.0178 - accuracy: 0.9955 - val_loss: 0.0380 - val_accuracy: 0.9821\n",
            "Epoch 65/200\n",
            "21/21 [==============================] - 0s 22ms/step - loss: 0.0242 - accuracy: 0.9940 - val_loss: 0.0287 - val_accuracy: 0.9881\n",
            "Epoch 66/200\n",
            "21/21 [==============================] - 0s 21ms/step - loss: 0.0275 - accuracy: 0.9926 - val_loss: 0.0254 - val_accuracy: 0.9881\n",
            "Epoch 67/200\n",
            "21/21 [==============================] - 0s 23ms/step - loss: 0.0265 - accuracy: 0.9955 - val_loss: 0.0279 - val_accuracy: 0.9881\n",
            "Epoch 68/200\n",
            "21/21 [==============================] - 0s 21ms/step - loss: 0.0192 - accuracy: 0.9985 - val_loss: 0.0364 - val_accuracy: 0.9821\n",
            "Epoch 69/200\n",
            "21/21 [==============================] - 0s 22ms/step - loss: 0.0282 - accuracy: 0.9926 - val_loss: 0.0517 - val_accuracy: 0.9821\n",
            "Epoch 70/200\n",
            "21/21 [==============================] - 0s 22ms/step - loss: 0.0202 - accuracy: 0.9970 - val_loss: 0.0243 - val_accuracy: 0.9881\n",
            "Epoch 71/200\n",
            "21/21 [==============================] - 0s 21ms/step - loss: 0.0208 - accuracy: 0.9955 - val_loss: 0.0448 - val_accuracy: 0.9821\n",
            "Epoch 72/200\n",
            "21/21 [==============================] - 0s 22ms/step - loss: 0.0229 - accuracy: 0.9955 - val_loss: 0.0500 - val_accuracy: 0.9821\n",
            "Epoch 73/200\n",
            "21/21 [==============================] - 0s 22ms/step - loss: 0.0203 - accuracy: 0.9985 - val_loss: 0.0212 - val_accuracy: 0.9881\n",
            "Epoch 74/200\n",
            "21/21 [==============================] - 0s 22ms/step - loss: 0.0160 - accuracy: 0.9955 - val_loss: 0.0212 - val_accuracy: 0.9881\n",
            "Epoch 75/200\n",
            "21/21 [==============================] - 0s 22ms/step - loss: 0.0161 - accuracy: 1.0000 - val_loss: 0.0182 - val_accuracy: 0.9940\n",
            "Epoch 76/200\n",
            "21/21 [==============================] - 0s 21ms/step - loss: 0.0168 - accuracy: 1.0000 - val_loss: 0.0187 - val_accuracy: 0.9940\n",
            "Epoch 77/200\n",
            "21/21 [==============================] - 0s 22ms/step - loss: 0.0104 - accuracy: 1.0000 - val_loss: 0.0248 - val_accuracy: 0.9940\n",
            "Epoch 78/200\n",
            "21/21 [==============================] - 0s 22ms/step - loss: 0.0127 - accuracy: 0.9985 - val_loss: 0.0326 - val_accuracy: 0.9821\n",
            "Epoch 79/200\n",
            "21/21 [==============================] - 0s 22ms/step - loss: 0.0115 - accuracy: 0.9970 - val_loss: 0.0307 - val_accuracy: 0.9821\n",
            "Epoch 80/200\n",
            "21/21 [==============================] - 0s 23ms/step - loss: 0.0136 - accuracy: 1.0000 - val_loss: 0.0171 - val_accuracy: 0.9940\n",
            "Epoch 81/200\n",
            "21/21 [==============================] - 0s 22ms/step - loss: 0.0134 - accuracy: 0.9970 - val_loss: 0.0204 - val_accuracy: 0.9881\n",
            "Epoch 82/200\n",
            "21/21 [==============================] - 0s 23ms/step - loss: 0.0143 - accuracy: 0.9970 - val_loss: 0.0177 - val_accuracy: 0.9940\n",
            "Epoch 83/200\n",
            "21/21 [==============================] - 0s 22ms/step - loss: 0.0119 - accuracy: 0.9985 - val_loss: 0.0265 - val_accuracy: 0.9940\n",
            "Epoch 84/200\n",
            "21/21 [==============================] - 0s 22ms/step - loss: 0.0188 - accuracy: 0.9970 - val_loss: 0.0184 - val_accuracy: 0.9940\n",
            "Epoch 85/200\n",
            "21/21 [==============================] - 0s 23ms/step - loss: 0.0109 - accuracy: 1.0000 - val_loss: 0.0264 - val_accuracy: 0.9940\n",
            "Epoch 86/200\n",
            "21/21 [==============================] - 0s 22ms/step - loss: 0.0134 - accuracy: 1.0000 - val_loss: 0.0205 - val_accuracy: 0.9940\n",
            "Epoch 87/200\n",
            "21/21 [==============================] - 0s 22ms/step - loss: 0.0115 - accuracy: 0.9985 - val_loss: 0.0183 - val_accuracy: 0.9940\n",
            "Epoch 88/200\n",
            "21/21 [==============================] - 0s 22ms/step - loss: 0.0103 - accuracy: 1.0000 - val_loss: 0.0233 - val_accuracy: 0.9940\n",
            "Epoch 89/200\n",
            "21/21 [==============================] - 0s 22ms/step - loss: 0.0109 - accuracy: 1.0000 - val_loss: 0.0244 - val_accuracy: 0.9940\n",
            "Epoch 90/200\n",
            "21/21 [==============================] - 0s 22ms/step - loss: 0.0123 - accuracy: 0.9985 - val_loss: 0.0205 - val_accuracy: 0.9940\n",
            "Epoch 91/200\n",
            "21/21 [==============================] - 0s 22ms/step - loss: 0.0173 - accuracy: 0.9940 - val_loss: 0.0223 - val_accuracy: 0.9940\n",
            "Epoch 92/200\n",
            "21/21 [==============================] - 0s 22ms/step - loss: 0.0100 - accuracy: 1.0000 - val_loss: 0.0226 - val_accuracy: 0.9940\n",
            "Epoch 93/200\n",
            "21/21 [==============================] - 0s 22ms/step - loss: 0.0125 - accuracy: 0.9985 - val_loss: 0.0283 - val_accuracy: 0.9881\n",
            "Epoch 94/200\n",
            "21/21 [==============================] - 0s 22ms/step - loss: 0.0115 - accuracy: 1.0000 - val_loss: 0.0267 - val_accuracy: 0.9821\n",
            "Epoch 95/200\n",
            "21/21 [==============================] - 0s 23ms/step - loss: 0.0131 - accuracy: 0.9985 - val_loss: 0.0376 - val_accuracy: 0.9821\n"
          ],
          "name": "stdout"
        },
        {
          "output_type": "execute_result",
          "data": {
            "text/plain": [
              "<keras.callbacks.History at 0x7f74383ebdd0>"
            ]
          },
          "metadata": {
            "tags": []
          },
          "execution_count": 27
        }
      ]
    },
    {
      "cell_type": "code",
      "metadata": {
        "colab": {
          "base_uri": "https://localhost:8080/"
        },
        "id": "dJBXatmTEt7X",
        "outputId": "540316ce-85c8-4ca9-99ee-88d6fe02d00f"
      },
      "source": [
        "score=model.evaluate(x_test,y_test)\n",
        "print(score)"
      ],
      "execution_count": null,
      "outputs": [
        {
          "output_type": "stream",
          "text": [
            "7/7 [==============================] - 0s 7ms/step - loss: 0.1323 - accuracy: 0.9619\n",
            "[0.13231834769248962, 0.961904764175415]\n"
          ],
          "name": "stdout"
        }
      ]
    },
    {
      "cell_type": "markdown",
      "metadata": {
        "id": "dteBwMNrRKVR"
      },
      "source": [
        "saving the model"
      ]
    },
    {
      "cell_type": "code",
      "metadata": {
        "id": "RhcSD74_VgT1",
        "colab": {
          "base_uri": "https://localhost:8080/"
        },
        "outputId": "3f4ae94b-177f-44dd-bc74-a4253c0e0eb4"
      },
      "source": [
        "model.save(path)"
      ],
      "execution_count": null,
      "outputs": [
        {
          "output_type": "stream",
          "text": [
            "INFO:tensorflow:Assets written to: /content/assets\n"
          ],
          "name": "stdout"
        }
      ]
    },
    {
      "cell_type": "markdown",
      "metadata": {
        "id": "3cA1q9z6RVB0"
      },
      "source": [
        "Loading the Model"
      ]
    },
    {
      "cell_type": "code",
      "metadata": {
        "id": "uNUAZowhRIrk"
      },
      "source": [
        "new_model=keras.models.load_model(path)"
      ],
      "execution_count": null,
      "outputs": []
    },
    {
      "cell_type": "code",
      "metadata": {
        "colab": {
          "base_uri": "https://localhost:8080/"
        },
        "id": "P0OS5rqjRyTC",
        "outputId": "58c51b1d-6c33-45f7-9d13-e7b2e91dbca5"
      },
      "source": [
        "new_model.predict(x_valid[0].reshape(-1,30,30,1))"
      ],
      "execution_count": null,
      "outputs": [
        {
          "output_type": "execute_result",
          "data": {
            "text/plain": [
              "array([[1.4022107e-10, 9.9999857e-01, 2.1977220e-10, 1.4889378e-06,\n",
              "        2.2620801e-11]], dtype=float32)"
            ]
          },
          "metadata": {
            "tags": []
          },
          "execution_count": 32
        }
      ]
    },
    {
      "cell_type": "markdown",
      "metadata": {
        "id": "KxLY_UGGMYYE"
      },
      "source": [
        "checking the results"
      ]
    },
    {
      "cell_type": "code",
      "metadata": {
        "colab": {
          "base_uri": "https://localhost:8080/",
          "height": 266
        },
        "id": "Fe-yRo9jSUpF",
        "outputId": "38b66fd9-154b-497c-f744-a2b9390c1681"
      },
      "source": [
        "plt.imshow(x_valid[0].reshape(30,30),cmap='gray')\n",
        "plt.show()"
      ],
      "execution_count": null,
      "outputs": [
        {
          "output_type": "display_data",
          "data": {
            "image/png": "[encoded data removed]",
            "text/plain": [
              "<Figure size 432x288 with 1 Axes>"
            ]
          },
          "metadata": {
            "tags": [],
            "needs_background": "light"
          }
        }
      ]
    },
    {
      "cell_type": "code",
      "metadata": {
        "id": "h42dUubbMcUD"
      },
      "source": [
        "predict_list=new_model.predict(image)\n",
        "def map_pred():\n",
        "  prediction=max(predict_list)\n",
        "  if(prediction>=0.65):\n",
        "    if(prediction==predict_list[0]):\n",
        "      relation=\"brother\"\n",
        "      return relation\n",
        "      if(prediction==predict_list[1]):\n",
        "      relation=\"father\"\n",
        "      return relation\n",
        "      if(prediction==predict_list[2]):\n",
        "      relation=\"mother\"\n",
        "      return relation\n",
        "      if(prediction==predict_list[3]):\n",
        "      relation=\"sister\"\n",
        "      return relation\n",
        "  else:\n",
        "    relation=\"stranger\"\n",
        "    return relation"
      ],
      "execution_count": null,
      "outputs": []
    }
  ]
}