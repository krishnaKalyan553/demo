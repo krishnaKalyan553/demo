{
  "nbformat": 4,
  "nbformat_minor": 0,
  "metadata": {
    "colab": {
      "name": "Untitled2.ipynb",
      "provenance": [],
      "authorship_tag": "ABX9TyPXFUumO89hXj6Q0Att/Tuk",
      "include_colab_link": true
    },
    "kernelspec": {
      "name": "python3",
      "display_name": "Python 3"
    },
    "language_info": {
      "name": "python"
    },
    "accelerator": "TPU"
  },
  "cells": [
    {
      "cell_type": "markdown",
      "metadata": {
        "id": "view-in-github",
        "colab_type": "text"
      },
      "source": [
        "<a href=\"https://colab.research.google.com/github/krishnaKalyan553/demo/blob/main/Untitled2.ipynb\" target=\"_parent\"><img src=\"https://colab.research.google.com/assets/colab-badge.svg\" alt=\"Open In Colab\"/></a>"
      ]
    },
    {
      "cell_type": "code",
      "metadata": {
        "id": "HbJIam2Y-xuv"
      },
      "source": [
        "from zipfile import ZipFile\n",
        "import numpy as np\n",
        "import keras\n",
        "from keras.models import Sequential\n",
        "from keras.layers import Conv2D,MaxPool2D,Dense,Flatten,Reshape\n",
        "from keras import layers\n",
        "import matplotlib.pyplot as plt\n",
        "import os \n",
        "import cv2\n",
        "from tensorflow.keras.callbacks import EarlyStopping\n",
        "#from tensorflow.keras.utils import to_categorical\n",
        "from sklearn.model_selection import train_test_split\n",
        "from keras.preprocessing.image import ImageDataGenerator "
      ],
      "execution_count": null,
      "outputs": []
    },
    {
      "cell_type": "code",
      "metadata": {
        "colab": {
          "base_uri": "https://localhost:8080/"
        },
        "id": "DIryGFsDWDoY",
        "outputId": "7c6ee6cd-7676-440b-ebe3-8591473cacdf"
      },
      "source": [
        "file=[\"brother.zip\",\"father.zip\",\"mother.zip\",\"sister.zip\"]\n",
        "for file_name in file:\n",
        "  with  ZipFile(file_name, 'r') as zip:\n",
        "    print('Extracting all the files now...')\n",
        "    zip.extractall()\n",
        "    print('Done!')"
      ],
      "execution_count": null,
      "outputs": [
        {
          "output_type": "stream",
          "text": [
            "Extracting all the files now...\n",
            "Done!\n",
            "Extracting all the files now...\n",
            "Done!\n",
            "Extracting all the files now...\n",
            "Done!\n",
            "Extracting all the files now...\n",
            "Done!\n"
          ],
          "name": "stdout"
        }
      ]
    },
    {
      "cell_type": "code",
      "metadata": {
        "id": "UZe_2pPi6iMq"
      },
      "source": [
        "x=[]\n",
        "y=[]\n",
        "mapping={\n",
        "    \"brother\":0,\n",
        "    \"father\":1,\n",
        "    \"mother\":2,\n",
        "    \"sister\":3,\n",
        "    }\n",
        "path=\"/content\"\n",
        "for relate in mapping.keys():\n",
        "  for img in os.listdir(os.path.join(path,relate)):\n",
        "    im=cv2.imread(os.path.join(path,relate,img))\n",
        "    im=cv2.cvtColor(im,cv2.COLOR_BGR2GRAY)\n",
        "    im=cv2.resize(im,(30,30))\n",
        "    x.append(im)\n",
        "    y.append(mapping[relate])\n",
        "x=np.array(x)\n",
        "y=np.array(y)\n",
        "x=x.reshape(x.shape[0],30,30,1)\n",
        "x=x.astype('float32')\n",
        "x=x/255\n",
        "x_train,x_test,y_train,y_test=train_test_split(x,y,test_size=0.2)\n",
        "x_train,x_valid,y_train,y_valid=train_test_split(x_train,y_train,test_size=0.2)\n",
        "early_stopping=EarlyStopping(\n",
        "    min_delta=0.001,\n",
        "    patience=5, \n",
        "    restore_best_weights=True,\n",
        ")\n"
      ],
      "execution_count": null,
      "outputs": []
    },
    {
      "cell_type": "code",
      "metadata": {
        "colab": {
          "base_uri": "https://localhost:8080/"
        },
        "id": "8ZTCUQLHFDVt",
        "outputId": "176aafba-ebea-4313-eb49-b5112a08a65c"
      },
      "source": [
        "model=Sequential()\n",
        "model.add(Conv2D(filters=12,kernel_size=2,strides=(1,1),padding=\"valid\",input_shape=(30,30,1),activation=\"relu\"))\n",
        "model.add(MaxPool2D(pool_size=(2,2)))\n",
        "model.add(layers.BatchNormalization())\n",
        "model.add(layers.Dropout(.4))\n",
        "model.add(Conv2D(filters=10,kernel_size=3,strides=(1,1),padding=\"same\",activation=\"relu\"))\n",
        "model.add(MaxPool2D(pool_size=(2,2)))\n",
        "model.add(layers.BatchNormalization())\n",
        "model.add(layers.Dropout(.3))\n",
        "# model.add(Conv2D(filters=10,kernel_size=2,strides=(1,1),padding=\"valid\",activation=\"relu\"))\n",
        "# model.add(layers.AveragePooling2D(pool_size=(2,2)))\n",
        "# model.add(layers.BatchNormalization())\n",
        "# model.add(layers.Dropout(.2))\n",
        "model.add(Flatten())\n",
        "model.add(Dense(4,activation=\"softmax\"))\n",
        "model.summary()\n",
        "model.compile(loss=\"sparse_categorical_crossentropy\",optimizer=\"adam\",metrics=[\"accuracy\"])\n",
        "model.fit(x_train,y_train,epochs=200,callbacks=[early_stopping],validation_data=(x_valid, y_valid))"
      ],
      "execution_count": null,
      "outputs": [
        {
          "output_type": "stream",
          "text": [
            "Model: \"sequential_3\"\n",
            "_________________________________________________________________\n",
            "Layer (type)                 Output Shape              Param #   \n",
            "=================================================================\n",
            "conv2d_9 (Conv2D)            (None, 29, 29, 12)        60        \n",
            "_________________________________________________________________\n",
            "max_pooling2d_6 (MaxPooling2 (None, 14, 14, 12)        0         \n",
            "_________________________________________________________________\n",
            "batch_normalization_9 (Batch (None, 14, 14, 12)        48        \n",
            "_________________________________________________________________\n",
            "dropout_9 (Dropout)          (None, 14, 14, 12)        0         \n",
            "_________________________________________________________________\n",
            "conv2d_10 (Conv2D)           (None, 14, 14, 10)        1090      \n",
            "_________________________________________________________________\n",
            "max_pooling2d_7 (MaxPooling2 (None, 7, 7, 10)          0         \n",
            "_________________________________________________________________\n",
            "batch_normalization_10 (Batc (None, 7, 7, 10)          40        \n",
            "_________________________________________________________________\n",
            "dropout_10 (Dropout)         (None, 7, 7, 10)          0         \n",
            "_________________________________________________________________\n",
            "flatten_3 (Flatten)          (None, 490)               0         \n",
            "_________________________________________________________________\n",
            "dense_3 (Dense)              (None, 4)                 1964      \n",
            "=================================================================\n",
            "Total params: 3,202\n",
            "Trainable params: 3,158\n",
            "Non-trainable params: 44\n",
            "_________________________________________________________________\n",
            "Epoch 1/200\n",
            "16/16 [==============================] - 2s 51ms/step - loss: 2.0808 - accuracy: 0.2472 - val_loss: 1.3743 - val_accuracy: 0.2891\n",
            "Epoch 2/200\n",
            "16/16 [==============================] - 0s 23ms/step - loss: 1.4554 - accuracy: 0.4042 - val_loss: 1.3626 - val_accuracy: 0.3672\n",
            "Epoch 3/200\n",
            "16/16 [==============================] - 0s 23ms/step - loss: 1.0690 - accuracy: 0.5879 - val_loss: 1.3588 - val_accuracy: 0.4141\n",
            "Epoch 4/200\n",
            "16/16 [==============================] - 0s 23ms/step - loss: 0.8929 - accuracy: 0.6403 - val_loss: 1.3703 - val_accuracy: 0.3750\n",
            "Epoch 5/200\n",
            "16/16 [==============================] - 0s 22ms/step - loss: 0.8223 - accuracy: 0.6909 - val_loss: 1.3669 - val_accuracy: 0.3203\n",
            "Epoch 6/200\n",
            "16/16 [==============================] - 0s 23ms/step - loss: 0.7161 - accuracy: 0.7501 - val_loss: 1.3433 - val_accuracy: 0.3906\n",
            "Epoch 7/200\n",
            "16/16 [==============================] - 0s 24ms/step - loss: 0.6683 - accuracy: 0.7106 - val_loss: 1.3211 - val_accuracy: 0.3594\n",
            "Epoch 8/200\n",
            "16/16 [==============================] - 0s 24ms/step - loss: 0.5913 - accuracy: 0.7874 - val_loss: 1.3100 - val_accuracy: 0.3906\n",
            "Epoch 9/200\n",
            "16/16 [==============================] - 0s 24ms/step - loss: 0.5680 - accuracy: 0.8016 - val_loss: 1.2569 - val_accuracy: 0.5156\n",
            "Epoch 10/200\n",
            "16/16 [==============================] - 0s 22ms/step - loss: 0.4959 - accuracy: 0.8009 - val_loss: 1.2184 - val_accuracy: 0.5703\n",
            "Epoch 11/200\n",
            "16/16 [==============================] - 0s 23ms/step - loss: 0.4854 - accuracy: 0.8119 - val_loss: 1.1771 - val_accuracy: 0.5938\n",
            "Epoch 12/200\n",
            "16/16 [==============================] - 0s 24ms/step - loss: 0.4050 - accuracy: 0.8552 - val_loss: 1.1476 - val_accuracy: 0.6016\n",
            "Epoch 13/200\n",
            "16/16 [==============================] - 0s 23ms/step - loss: 0.4561 - accuracy: 0.8312 - val_loss: 1.1106 - val_accuracy: 0.5938\n",
            "Epoch 14/200\n",
            "16/16 [==============================] - 0s 25ms/step - loss: 0.4228 - accuracy: 0.8698 - val_loss: 1.0727 - val_accuracy: 0.6172\n",
            "Epoch 15/200\n",
            "16/16 [==============================] - 0s 24ms/step - loss: 0.3447 - accuracy: 0.8854 - val_loss: 1.0029 - val_accuracy: 0.6250\n",
            "Epoch 16/200\n",
            "16/16 [==============================] - 0s 23ms/step - loss: 0.3710 - accuracy: 0.8704 - val_loss: 0.9700 - val_accuracy: 0.6406\n",
            "Epoch 17/200\n",
            "16/16 [==============================] - 0s 24ms/step - loss: 0.3743 - accuracy: 0.8697 - val_loss: 0.9004 - val_accuracy: 0.6484\n",
            "Epoch 18/200\n",
            "16/16 [==============================] - 0s 24ms/step - loss: 0.2961 - accuracy: 0.8790 - val_loss: 0.9186 - val_accuracy: 0.6562\n",
            "Epoch 19/200\n",
            "16/16 [==============================] - 0s 24ms/step - loss: 0.3482 - accuracy: 0.8908 - val_loss: 0.8353 - val_accuracy: 0.6875\n",
            "Epoch 20/200\n",
            "16/16 [==============================] - 0s 23ms/step - loss: 0.2927 - accuracy: 0.8942 - val_loss: 0.7832 - val_accuracy: 0.7266\n",
            "Epoch 21/200\n",
            "16/16 [==============================] - 0s 23ms/step - loss: 0.3392 - accuracy: 0.8838 - val_loss: 0.6919 - val_accuracy: 0.7812\n",
            "Epoch 22/200\n",
            "16/16 [==============================] - 0s 24ms/step - loss: 0.2769 - accuracy: 0.8934 - val_loss: 0.6709 - val_accuracy: 0.7812\n",
            "Epoch 23/200\n",
            "16/16 [==============================] - 0s 24ms/step - loss: 0.2622 - accuracy: 0.9123 - val_loss: 0.6323 - val_accuracy: 0.7812\n",
            "Epoch 24/200\n",
            "16/16 [==============================] - 0s 23ms/step - loss: 0.2809 - accuracy: 0.8973 - val_loss: 0.5651 - val_accuracy: 0.7969\n",
            "Epoch 25/200\n",
            "16/16 [==============================] - 0s 24ms/step - loss: 0.2134 - accuracy: 0.9261 - val_loss: 0.5470 - val_accuracy: 0.8047\n",
            "Epoch 26/200\n",
            "16/16 [==============================] - 0s 23ms/step - loss: 0.2461 - accuracy: 0.8992 - val_loss: 0.5139 - val_accuracy: 0.8203\n",
            "Epoch 27/200\n",
            "16/16 [==============================] - 0s 23ms/step - loss: 0.2470 - accuracy: 0.8908 - val_loss: 0.5140 - val_accuracy: 0.8438\n",
            "Epoch 28/200\n",
            "16/16 [==============================] - 0s 24ms/step - loss: 0.2468 - accuracy: 0.9137 - val_loss: 0.4749 - val_accuracy: 0.8203\n",
            "Epoch 29/200\n",
            "16/16 [==============================] - 0s 23ms/step - loss: 0.1903 - accuracy: 0.9310 - val_loss: 0.4182 - val_accuracy: 0.8672\n",
            "Epoch 30/200\n",
            "16/16 [==============================] - 0s 23ms/step - loss: 0.1851 - accuracy: 0.9389 - val_loss: 0.4263 - val_accuracy: 0.8750\n",
            "Epoch 31/200\n",
            "16/16 [==============================] - 0s 24ms/step - loss: 0.1783 - accuracy: 0.9274 - val_loss: 0.3937 - val_accuracy: 0.9062\n",
            "Epoch 32/200\n",
            "16/16 [==============================] - 0s 23ms/step - loss: 0.1827 - accuracy: 0.9373 - val_loss: 0.3820 - val_accuracy: 0.9062\n",
            "Epoch 33/200\n",
            "16/16 [==============================] - 0s 24ms/step - loss: 0.1656 - accuracy: 0.9413 - val_loss: 0.3488 - val_accuracy: 0.9375\n",
            "Epoch 34/200\n",
            "16/16 [==============================] - 0s 24ms/step - loss: 0.1742 - accuracy: 0.9431 - val_loss: 0.3264 - val_accuracy: 0.9375\n",
            "Epoch 35/200\n",
            "16/16 [==============================] - 0s 24ms/step - loss: 0.1771 - accuracy: 0.9420 - val_loss: 0.3141 - val_accuracy: 0.9453\n",
            "Epoch 36/200\n",
            "16/16 [==============================] - 0s 24ms/step - loss: 0.1943 - accuracy: 0.9321 - val_loss: 0.3119 - val_accuracy: 0.9531\n",
            "Epoch 37/200\n",
            "16/16 [==============================] - 0s 23ms/step - loss: 0.2171 - accuracy: 0.9032 - val_loss: 0.2857 - val_accuracy: 0.9531\n",
            "Epoch 38/200\n",
            "16/16 [==============================] - 0s 24ms/step - loss: 0.1679 - accuracy: 0.9417 - val_loss: 0.2812 - val_accuracy: 0.9531\n",
            "Epoch 39/200\n",
            "16/16 [==============================] - 0s 24ms/step - loss: 0.1504 - accuracy: 0.9622 - val_loss: 0.2674 - val_accuracy: 0.9531\n",
            "Epoch 40/200\n",
            "16/16 [==============================] - 0s 23ms/step - loss: 0.1958 - accuracy: 0.9418 - val_loss: 0.2558 - val_accuracy: 0.9609\n",
            "Epoch 41/200\n",
            "16/16 [==============================] - 0s 25ms/step - loss: 0.1349 - accuracy: 0.9602 - val_loss: 0.2464 - val_accuracy: 0.9609\n",
            "Epoch 42/200\n",
            "16/16 [==============================] - 0s 24ms/step - loss: 0.1294 - accuracy: 0.9586 - val_loss: 0.2568 - val_accuracy: 0.9609\n",
            "Epoch 43/200\n",
            "16/16 [==============================] - 0s 25ms/step - loss: 0.1581 - accuracy: 0.9419 - val_loss: 0.2505 - val_accuracy: 0.9531\n",
            "Epoch 44/200\n",
            "16/16 [==============================] - 0s 24ms/step - loss: 0.1618 - accuracy: 0.9532 - val_loss: 0.2472 - val_accuracy: 0.9531\n",
            "Epoch 45/200\n",
            "16/16 [==============================] - 0s 24ms/step - loss: 0.1188 - accuracy: 0.9657 - val_loss: 0.2416 - val_accuracy: 0.9531\n",
            "Epoch 46/200\n",
            "16/16 [==============================] - 0s 23ms/step - loss: 0.1704 - accuracy: 0.9466 - val_loss: 0.2340 - val_accuracy: 0.9531\n",
            "Epoch 47/200\n",
            "16/16 [==============================] - 0s 24ms/step - loss: 0.1550 - accuracy: 0.9432 - val_loss: 0.2425 - val_accuracy: 0.9531\n",
            "Epoch 48/200\n",
            "16/16 [==============================] - 0s 24ms/step - loss: 0.1169 - accuracy: 0.9647 - val_loss: 0.2516 - val_accuracy: 0.9609\n",
            "Epoch 49/200\n",
            "16/16 [==============================] - 0s 24ms/step - loss: 0.1465 - accuracy: 0.9466 - val_loss: 0.2512 - val_accuracy: 0.9609\n",
            "Epoch 50/200\n",
            "16/16 [==============================] - 0s 23ms/step - loss: 0.1233 - accuracy: 0.9457 - val_loss: 0.2486 - val_accuracy: 0.9531\n",
            "Epoch 51/200\n",
            "16/16 [==============================] - 0s 24ms/step - loss: 0.1346 - accuracy: 0.9519 - val_loss: 0.2640 - val_accuracy: 0.9453\n"
          ],
          "name": "stdout"
        },
        {
          "output_type": "execute_result",
          "data": {
            "text/plain": [
              "<keras.callbacks.History at 0x7f4d85d168d0>"
            ]
          },
          "metadata": {
            "tags": []
          },
          "execution_count": 17
        }
      ]
    },
    {
      "cell_type": "code",
      "metadata": {
        "colab": {
          "base_uri": "https://localhost:8080/"
        },
        "id": "dJBXatmTEt7X",
        "outputId": "d7d1666a-f800-418b-e7c2-96026852337f"
      },
      "source": [
        "score=model.evaluate(x_test,y_test)\n",
        "print(score)"
      ],
      "execution_count": null,
      "outputs": [
        {
          "output_type": "stream",
          "text": [
            "5/5 [==============================] - 0s 8ms/step - loss: 0.1466 - accuracy: 0.9750\n",
            "[0.14663314819335938, 0.9750000238418579]\n"
          ],
          "name": "stdout"
        }
      ]
    },
    {
      "cell_type": "markdown",
      "metadata": {
        "id": "dteBwMNrRKVR"
      },
      "source": [
        "saving the model"
      ]
    },
    {
      "cell_type": "code",
      "metadata": {
        "id": "RhcSD74_VgT1",
        "colab": {
          "base_uri": "https://localhost:8080/"
        },
        "outputId": "e1358494-a4dd-4aa3-e99d-40536cb8f4e7"
      },
      "source": [
        "model.save(path)"
      ],
      "execution_count": null,
      "outputs": [
        {
          "output_type": "stream",
          "text": [
            "INFO:tensorflow:Assets written to: /content/assets\n"
          ],
          "name": "stdout"
        }
      ]
    },
    {
      "cell_type": "markdown",
      "metadata": {
        "id": "3cA1q9z6RVB0"
      },
      "source": [
        "Loading the Model"
      ]
    },
    {
      "cell_type": "code",
      "metadata": {
        "id": "uNUAZowhRIrk"
      },
      "source": [
        "new_model=keras.models.load_model(path)"
      ],
      "execution_count": null,
      "outputs": []
    },
    {
      "cell_type": "code",
      "metadata": {
        "colab": {
          "base_uri": "https://localhost:8080/"
        },
        "id": "P0OS5rqjRyTC",
        "outputId": "2ecc2e2e-3a79-446f-985c-faa65c7862a4"
      },
      "source": [
        "new_model.predict(x_valid[0].reshape(-1,30,30,1))"
      ],
      "execution_count": null,
      "outputs": [
        {
          "output_type": "execute_result",
          "data": {
            "text/plain": [
              "array([[0.14540508, 0.62671316, 0.08857069, 0.13931102]], dtype=float32)"
            ]
          },
          "metadata": {
            "tags": []
          },
          "execution_count": 27
        }
      ]
    },
    {
      "cell_type": "code",
      "metadata": {
        "colab": {
          "base_uri": "https://localhost:8080/",
          "height": 266
        },
        "id": "Fe-yRo9jSUpF",
        "outputId": "b340d509-e4ee-427e-cae7-0c0745522312"
      },
      "source": [
        "plt.imshow(x_valid[0].reshape(30,30),cmap='gray')\n",
        "plt.show()"
      ],
      "execution_count": null,
      "outputs": [
        {
          "output_type": "display_data",
          "data": {
            "image/png": "[encoded data removed]",
            "text/plain": [
              "<Figure size 432x288 with 1 Axes>"
            ]
          },
          "metadata": {
            "tags": [],
            "needs_background": "light"
          }
        }
      ]
    }
  ]
}