{
 "cells": [
  {
   "cell_type": "markdown",
   "id": "66487435",
   "metadata": {},
   "source": [
    "# image data set\n",
    "#800 images with 4 classes"
   ]
  },
  {
   "cell_type": "code",
   "execution_count": null,
   "id": "4e57f3cd",
   "metadata": {},
   "outputs": [],
   "source": [
    "imgData=input(\"give me images\")"
   ]
  },
  {
   "cell_type": "markdown",
   "id": "47576e4b",
   "metadata": {},
   "source": [
    "# MODEL\n",
    "#by using keras"
   ]
  },
  {
   "cell_type": "code",
   "execution_count": null,
   "id": "25c235a5",
   "metadata": {},
   "outputs": [],
   "source": [
    "class who_is_that:\n",
    "    def __init__(self,imageData):\n",
    "        self.imageData=imageData\n",
    "    def classifier(image):\n",
    "        return relation\n",
    "    "
   ]
  },
  {
   "cell_type": "markdown",
   "id": "9c8b4fa6",
   "metadata": {},
   "source": [
    "# input video-opencv\n",
    "##real time application \n",
    "#convert ouput to audio format"
   ]
  },
  {
   "cell_type": "code",
   "execution_count": null,
   "id": "51c049aa",
   "metadata": {},
   "outputs": [],
   "source": [
    "class implement:\n",
    "    def __init__(self):\n",
    "        pass\n",
    "    def faceDetection:\n",
    "        return image\n",
    "    def audio():\n",
    "        return voice"
   ]
  }
 ],
 "metadata": {
  "kernelspec": {
   "display_name": "Python 3",
   "language": "python",
   "name": "python3"
  },
  "language_info": {
   "codemirror_mode": {
    "name": "ipython",
    "version": 3
   },
   "file_extension": ".py",
   "mimetype": "text/x-python",
   "name": "python",
   "nbconvert_exporter": "python",
   "pygments_lexer": "ipython3",
   "version": "3.6.12"
  }
 },
 "nbformat": 4,
 "nbformat_minor": 5
}
