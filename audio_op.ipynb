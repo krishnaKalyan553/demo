import pyttsx3
#relation=model(image)
relation=input('what is the output of the model:\n')

def audio(relation):
    pyobj=pyttsx3.init()
    pyobj.say("this is your"+str(relation))
    pyobj.runAndWait()
audio(relation)
