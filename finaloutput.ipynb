{
 "cells": [
  {
   "cell_type": "markdown",
   "metadata": {},
   "source": [
    "**Dependencies**\n"
   ]
  },
  {
   "cell_type": "markdown",
   "metadata": {},
   "source": []
  },
  {
   "cell_type": "code",
   "execution_count": 6,
   "metadata": {},
   "outputs": [],
   "source": [
    "import keras\n",
    "import pyttsx3\n",
    "import cv2\n",
    "import numpy as np\n",
    "import time\n",
    "import face_recognition as fr"
   ]
  },
  {
   "cell_type": "markdown",
   "metadata": {},
   "source": [
    "**Loading models**"
   ]
  },
  {
   "cell_type": "code",
   "execution_count": 7,
   "metadata": {},
   "outputs": [],
   "source": [
    "emo_model=keras.models.load_model(\"emotion_model.h5\")"
   ]
  },
  {
   "cell_type": "code",
   "execution_count": 8,
   "metadata": {},
   "outputs": [],
   "source": [
    "def audio(rela):\n",
    "    pyobj=pyttsx3.init()\n",
    "    pyobj.say(rela)\n",
    "    pyobj.runAndWait()"
   ]
  },
  {
   "cell_type": "markdown",
   "metadata": {},
   "source": [
    "**press q to exit**\n",
    "\n",
    "**press f to know about the person**\n",
    "\n",
    "**press e to know their Emotion**\n",
    "\n",
    "**press t to know the current Time**"
   ]
  },
  {
   "cell_type": "code",
   "execution_count": 9,
   "metadata": {},
   "outputs": [],
   "source": [
    "sister = fr.load_image_file(r\"C:\\Users\\nysha\\OneDrive\\Desktop\\project\\21AAC50\\test\\sister\\Sister (373).png\")\n",
    "brother=fr.load_image_file(r\"C:\\Users\\nysha\\OneDrive\\Desktop\\project\\21AAC50\\train\\brother\\brother (20).png\")\n",
    "father=fr.load_image_file(r\"C:\\Users\\nysha\\OneDrive\\Desktop\\project\\21AAC50\\train\\father\\father5 (8).png\")\n",
    "mother=fr.load_image_file(r\"C:\\Users\\nysha\\OneDrive\\Desktop\\project\\21AAC50\\train\\mother\\mother1 (7).png\")\n",
    "sister_encoding = fr.face_encodings(sister)[0]\n",
    "brother_encoding = fr.face_encodings(brother)[0]\n",
    "mother_encoding = fr.face_encodings(mother)[0]\n",
    "father_encoding = fr.face_encodings(father)[0]\n",
    "known_face_encondings = [sister_encoding,brother_encoding,mother_encoding,father_encoding]\n",
    "known_face_names = [\"sister\",\"brother\",\"mother\",\"father\"]\n"
   ]
  },
  {
   "cell_type": "code",
   "execution_count": 12,
   "metadata": {},
   "outputs": [
    {
     "name": "stdout",
     "output_type": "stream",
     "text": [
      "fear\n",
      "****\n",
      "fear\n",
      "****\n",
      "fear\n",
      "****\n",
      "fear\n",
      "****\n",
      "fear\n",
      "****\n",
      "fear\n",
      "****\n",
      "fear\n",
      "****\n",
      "fear\n",
      "****\n",
      "fear\n",
      "****\n",
      "fear\n",
      "****\n",
      "fear\n",
      "****\n",
      "anger\n",
      "****\n",
      "happy\n",
      "****\n",
      "happy\n",
      "****\n",
      "fear\n",
      "****\n",
      "fear\n",
      "****\n",
      "fear\n",
      "****\n"
     ]
    }
   ],
   "source": [
    "cap=cv2.VideoCapture(0)\n",
    "cap.set(10,200)\n",
    "while True:\n",
    "    _, img = cap.read()\n",
    "    gray=cv2.cvtColor(img,cv2.COLOR_BGR2GRAY)\n",
    "    rgb=cv2.cvtColor(img,cv2.COLOR_BGR2RGB)\n",
    "    face_locations = fr.face_locations(rgb)\n",
    "    face_encodings = fr.face_encodings(rgb, face_locations)\n",
    "    for(top, right, bottom, left), face_encoding in zip(face_locations, face_encodings):\n",
    "        image=gray[top:bottom,left:right]\n",
    "        matches = fr.compare_faces(known_face_encondings, face_encoding)\n",
    "        name = \"Stranger\"\n",
    "        face_distances = fr.face_distance(known_face_encondings, face_encoding)\n",
    "        best_match_index = np.argmin(face_distances)\n",
    "        if matches[best_match_index]:\n",
    "            name = known_face_names[best_match_index]\n",
    "        cv2.rectangle(img, (left, top), (right, bottom), (255, 0, 0), 2)\n",
    "\n",
    "        cv2.rectangle(img, (left, bottom -35), (right, bottom), (255, 0, 0), cv2.FILLED)\n",
    "        font = cv2.FONT_HERSHEY_SIMPLEX\n",
    "        cv2.putText(img, name, (left + 6, bottom - 6), font, 1.0, (255, 255, 255), 1)\n",
    "        try:\n",
    "            image=cv2.resize(image,(40,40))\n",
    "            image=np.reshape(image,(1,40,40,1))\n",
    "            eprob=emo_model.predict(image)\n",
    "            emo_predict_list=[eprob[0][0],eprob[0][1],eprob[0][2],eprob[0][3],eprob[0][4]]\n",
    "            eprediction=max(emo_predict_list)\n",
    "            if(eprediction>=0.5):\n",
    "                if(eprediction==emo_predict_list[0]):\n",
    "                    emotion=\"anger\"\n",
    "                elif(eprediction==emo_predict_list[1]):\n",
    "                    emotion=\"disgust\"\n",
    "                elif(eprediction==emo_predict_list[2]):\n",
    "                    emotion=\"fear\"\n",
    "                elif(eprediction==emo_predict_list[3]):\n",
    "                    emotion=\"happy\"\n",
    "                else:\n",
    "                    emotion=\"neutral\" \n",
    "                print(emotion)\n",
    "                print(\"****\")\n",
    "        except Exception as e:\n",
    "                pass\n",
    "    cv2.imshow('its video',img)\n",
    "    k=cv2.waitKey(20) & 0xFF\n",
    "    if k==ord('q'):\n",
    "        break\n",
    "    if k==ord('f'):\n",
    "        audio(name)\n",
    "    if k==ord('e'):\n",
    "        audio(emotion)\n",
    "    if k==ord('t'):\n",
    "        t=time.ctime()\n",
    "        hr_min=t.split(' ')\n",
    "        audio(hr_min[-2])\n",
    "cap.release()\n",
    "cv2.destroyAllWindows()"
   ]
  }
 ],
 "metadata": {
  "interpreter": {
   "hash": "af6642ad59c1ae52ed201a3b37e349674505e2593b0b0a68d4bc3a1adeb47276"
  },
  "kernelspec": {
   "display_name": "Python 3.8.9 64-bit",
   "name": "python3"
  },
  "language_info": {
   "codemirror_mode": {
    "name": "ipython",
    "version": 3
   },
   "file_extension": ".py",
   "mimetype": "text/x-python",
   "name": "python",
   "nbconvert_exporter": "python",
   "pygments_lexer": "ipython3",
   "version": "3.8.9"
  },
  "orig_nbformat": 4
 },
 "nbformat": 4,
 "nbformat_minor": 2
}
